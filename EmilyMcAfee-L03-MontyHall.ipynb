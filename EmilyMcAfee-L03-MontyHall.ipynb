{
 "cells": [
  {
   "cell_type": "markdown",
   "metadata": {},
   "source": [
    "# Lesson 3 Assignment - Monty Hall Simulation\n",
    "## Author - Emily McAfee"
   ]
  },
  {
   "cell_type": "markdown",
   "metadata": {},
   "source": [
    "### Instructions\n",
    "Simulate the conditional probabilities of the distributions for winning a car vs. a goat for the Monty Hall Problem that includes the following:\n",
    "1. the cases for switching or not switching\n",
    "2. histograms and summary statistics (at least mean and variance) of the results for winning the car or a goat for both strategies: switching or not switching\n",
    "3. comparison of the cases to determine the best strategy\n",
    "4. recommended strategy\n",
    "\n"
   ]
  },
  {
   "cell_type": "markdown",
   "metadata": {},
   "source": [
    "#### Note: \n",
    "Please clearly outline the results and your recommendation with markdown text. Be sure your discussion includes narrative for your figures and tables so it is clear to the reader the importance of each bit of evidence."
   ]
  },
  {
   "cell_type": "code",
   "execution_count": 6,
   "metadata": {},
   "outputs": [],
   "source": [
    "# One contenstant pick/establish variables\n",
    "import random\n",
    "import pandas as pd\n",
    "%matplotlib inline\n",
    "\n",
    "def contestant_pick(switch, numdoors = 3):\n",
    "    \n",
    "    # We (the host) know the car is behind door 1\n",
    "    # Pick random door out of num doors\n",
    "    chosen_door = random.randint(1, numdoors)\n",
    "    \n",
    "    if switch:\n",
    "        # show goat\n",
    "        revealed_door = 3 if chosen_door == 2 else 2\n",
    "        \n",
    "        # switch - can choose any other door than our initial and\n",
    "        # hosts pick\n",
    "        avail_doors = [doornum for doornum in range(1, numdoors + 1)\n",
    "                      if doornum not in (chosen_door, revealed_door)]\n",
    "        \n",
    "        chosen_door = random.choice(avail_doors)\n",
    "    \n",
    "    # If you chose door number 1 you're a winner!\n",
    "    return chosen_door == 1"
   ]
  },
  {
   "cell_type": "code",
   "execution_count": 7,
   "metadata": {},
   "outputs": [
    {
     "name": "stdout",
     "output_type": "stream",
     "text": [
      "wins without switching 0.3307\n",
      "wins with switching 0.6687\n"
     ]
    }
   ],
   "source": [
    "# Many contestant picks\n",
    "def contestant_picks(npicks, switch, numdoors = 3):\n",
    "    nwins = 0\n",
    "    for i in range(npicks):\n",
    "        if contestant_pick(switch, numdoors):\n",
    "            nwins += 1\n",
    "    return nwins\n",
    "\n",
    "numdoors, npicks = 3, 10000\n",
    "withoutswitch = contestant_picks(npicks, False, numdoors)\n",
    "withswitch = contestant_picks(npicks, True, numdoors)\n",
    "\n",
    "print('wins without switching', (withoutswitch/npicks))\n",
    "print('wins with switching', (withswitch/npicks))"
   ]
  },
  {
   "cell_type": "code",
   "execution_count": 8,
   "metadata": {},
   "outputs": [
    {
     "data": {
      "text/html": [
       "<div>\n",
       "<style scoped>\n",
       "    .dataframe tbody tr th:only-of-type {\n",
       "        vertical-align: middle;\n",
       "    }\n",
       "\n",
       "    .dataframe tbody tr th {\n",
       "        vertical-align: top;\n",
       "    }\n",
       "\n",
       "    .dataframe thead th {\n",
       "        text-align: right;\n",
       "    }\n",
       "</style>\n",
       "<table border=\"1\" class=\"dataframe\">\n",
       "  <thead>\n",
       "    <tr style=\"text-align: right;\">\n",
       "      <th></th>\n",
       "      <th>approach</th>\n",
       "      <th>proportion_wins</th>\n",
       "    </tr>\n",
       "  </thead>\n",
       "  <tbody>\n",
       "    <tr>\n",
       "      <td>0</td>\n",
       "      <td>switch</td>\n",
       "      <td>0.6687</td>\n",
       "    </tr>\n",
       "    <tr>\n",
       "      <td>1</td>\n",
       "      <td>noswitch</td>\n",
       "      <td>0.3307</td>\n",
       "    </tr>\n",
       "  </tbody>\n",
       "</table>\n",
       "</div>"
      ],
      "text/plain": [
       "   approach  proportion_wins\n",
       "0    switch           0.6687\n",
       "1  noswitch           0.3307"
      ]
     },
     "execution_count": 8,
     "metadata": {},
     "output_type": "execute_result"
    }
   ],
   "source": [
    "# Visualize data\n",
    "data = [['switch', withswitch/npicks],['noswitch', withoutswitch/npicks]]\n",
    "df = pd.DataFrame(data, columns = ['approach', 'proportion_wins'])\n",
    "df\n"
   ]
  },
  {
   "cell_type": "code",
   "execution_count": 9,
   "metadata": {},
   "outputs": [
    {
     "data": {
      "text/plain": [
       "<matplotlib.axes._subplots.AxesSubplot at 0x118157950>"
      ]
     },
     "execution_count": 9,
     "metadata": {},
     "output_type": "execute_result"
    },
    {
     "data": {
      "image/png": "[encoded data removed]",
      "text/plain": [
       "<Figure size 432x288 with 1 Axes>"
      ]
     },
     "metadata": {
      "needs_background": "light"
     },
     "output_type": "display_data"
    }
   ],
   "source": [
    "df.plot.bar(x = 'approach', y = 'proportion_wins', rot = 0)"
   ]
  },
  {
   "cell_type": "markdown",
   "metadata": {},
   "source": [
    "# Insights\n",
    "From this modeling we can see that switching doors yields about a 66% win rate, while NOT switching doors after the host has shown you one goat yields about a 33% win rate. Thus, the recommended strategy for this game show would be to switch doors."
   ]
  }
 ],
 "metadata": {
  "kernelspec": {
   "display_name": "Python 3",
   "language": "python",
   "name": "python3"
  },
  "language_info": {
   "codemirror_mode": {
    "name": "ipython",
    "version": 3
   },
   "file_extension": ".py",
   "mimetype": "text/x-python",
   "name": "python",
   "nbconvert_exporter": "python",
   "pygments_lexer": "ipython3",
   "version": "3.7.4"
  }
 },
 "nbformat": 4,
 "nbformat_minor": 2
}
