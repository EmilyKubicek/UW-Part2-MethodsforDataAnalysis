{
 "cells": [
  {
   "cell_type": "markdown",
   "metadata": {},
   "source": [
    "# Lesson 4 Assignment - Automobile Price Hypothesis Testing\n",
    "## Author - Studentname"
   ]
  },
  {
   "cell_type": "markdown",
   "metadata": {},
   "source": [
    "### Instructions\n",
    "Test hypotheses for the price of automobiles:\n",
    "\n",
    "1. Compare and test the normality of the distributions of **price** and **log price**. <br/>\n",
    "Use both a graphical method and a formal test. Hint: remember these relationships will always be approximate.\n",
    "\n",
    "2. Test significance of **price (or log price)** stratified by \n",
    "a) **fuel type**, b) **aspiration**, and c) **rear vs. front wheel drive**. <br />Use both graphical methods and the formal test.\n",
    "\n",
    "3. Apply ANOVA and Tukey's HSD test to the auto price data to compare the **price (or log price** if closer to a normal distribution) of autos stratified by **body style**.\n",
    "\n",
    "4. Graphically explore the differences between the price conditioned by the categories of each variable. <br/>\n",
    "Hint: Make sure you have enough data for each category and drop categories with insufficient data.\n",
    "\n",
    "5. Use standard ANOVA and Tukey HSD to test the differences of these groups.\n"
   ]
  },
  {
   "cell_type": "markdown",
   "metadata": {},
   "source": [
    "#### Note: \n",
    "Please clearly outline the results of these tests with markdown text. Be sure your discussion includes narrative for your figures and tables so it is clear to the reader the importance of each bit of evidence."
   ]
  },
  {
   "cell_type": "code",
   "execution_count": 1,
   "metadata": {},
   "outputs": [],
   "source": [
    "# Import libraries\n",
    "import pandas as pd\n",
    "import numpy as np\n",
    "import matplotlib.pyplot as plt\n",
    "import scipy.stats\n",
    "from scipy import stats\n",
    "import scipy.stats as ss"
   ]
  },
  {
   "cell_type": "code",
   "execution_count": 2,
   "metadata": {},
   "outputs": [],
   "source": [
    "# Read in the data\n",
    "\n",
    "# Cleaned up Dataset location\n",
    "filename = \"https://library.startlearninglabs.uw.edu/DATASCI410/Datasets/Automobile%20price%20data%20_Raw_.csv\"\n",
    "\n",
    "# Put into dataframe\n",
    "autodf = pd.read_csv(filename)"
   ]
  },
  {
   "cell_type": "code",
   "execution_count": 3,
   "metadata": {},
   "outputs": [
    {
     "name": "stdout",
     "output_type": "stream",
     "text": [
      "   symboling normalized-losses         make fuel-type aspiration num-of-doors  \\\n",
      "0          3                 ?  alfa-romero       gas        std          two   \n",
      "1          3                 ?  alfa-romero       gas        std          two   \n",
      "2          1                 ?  alfa-romero       gas        std          two   \n",
      "3          2               164         audi       gas        std         four   \n",
      "4          2               164         audi       gas        std         four   \n",
      "\n",
      "    body-style drive-wheels engine-location  wheel-base  ...    engine-size  \\\n",
      "0  convertible          rwd           front        88.6  ...            130   \n",
      "1  convertible          rwd           front        88.6  ...            130   \n",
      "2    hatchback          rwd           front        94.5  ...            152   \n",
      "3        sedan          fwd           front        99.8  ...            109   \n",
      "4        sedan          4wd           front        99.4  ...            136   \n",
      "\n",
      "   fuel-system  bore  stroke compression-ratio horsepower  peak-rpm city-mpg  \\\n",
      "0         mpfi  3.47    2.68               9.0        111      5000       21   \n",
      "1         mpfi  3.47    2.68               9.0        111      5000       21   \n",
      "2         mpfi  2.68    3.47               9.0        154      5000       19   \n",
      "3         mpfi  3.19    3.40              10.0        102      5500       24   \n",
      "4         mpfi  3.19    3.40               8.0        115      5500       18   \n",
      "\n",
      "  highway-mpg  price  \n",
      "0          27  13495  \n",
      "1          27  16500  \n",
      "2          26  16500  \n",
      "3          30  13950  \n",
      "4          22  17450  \n",
      "\n",
      "[5 rows x 26 columns]\n"
     ]
    },
    {
     "data": {
      "text/plain": [
       "symboling              int64\n",
       "normalized-losses     object\n",
       "make                  object\n",
       "fuel-type             object\n",
       "aspiration            object\n",
       "num-of-doors          object\n",
       "body-style            object\n",
       "drive-wheels          object\n",
       "engine-location       object\n",
       "wheel-base           float64\n",
       "length               float64\n",
       "width                float64\n",
       "height               float64\n",
       "curb-weight            int64\n",
       "engine-type           object\n",
       "num-of-cylinders      object\n",
       "engine-size            int64\n",
       "fuel-system           object\n",
       "bore                  object\n",
       "stroke                object\n",
       "compression-ratio    float64\n",
       "horsepower            object\n",
       "peak-rpm              object\n",
       "city-mpg               int64\n",
       "highway-mpg            int64\n",
       "price                 object\n",
       "dtype: object"
      ]
     },
     "execution_count": 3,
     "metadata": {},
     "output_type": "execute_result"
    }
   ],
   "source": [
    "# Check data\n",
    "print(autodf.head())\n",
    "autodf.dtypes"
   ]
  },
  {
   "cell_type": "markdown",
   "metadata": {
    "collapsed": true
   },
   "source": [
    "## 1. Compare and test normality of the distributions of price and log price\n",
    "### Use both a graphical method and a formal test."
   ]
  },
  {
   "cell_type": "code",
   "execution_count": 4,
   "metadata": {},
   "outputs": [
    {
     "name": "stderr",
     "output_type": "stream",
     "text": [
      "/anaconda3/lib/python3.6/site-packages/ipykernel_launcher.py:19: SettingWithCopyWarning: \n",
      "A value is trying to be set on a copy of a slice from a DataFrame\n",
      "\n",
      "See the caveats in the documentation: http://pandas.pydata.org/pandas-docs/stable/indexing.html#indexing-view-versus-copy\n"
     ]
    }
   ],
   "source": [
    "# Check data\n",
    "\n",
    "# Checking price data\n",
    "autodf.loc[:,'price'].head()\n",
    "\n",
    "# Check for missing data\n",
    "autodf.price.unique()\n",
    "\n",
    "# Replace missing data with median\n",
    "def fill_median(arg1):\n",
    "    \n",
    "    #identify numeric values\n",
    "    numval = (arg1 != \" \") & (arg1 != \"?\") & (arg1 != \"??\") & (arg1 != \"NA\")\n",
    "    \n",
    "    #identify non-numeric values\n",
    "    nonnumval = ~numval\n",
    "    \n",
    "    #replace non-numeric values\n",
    "    arg1[nonnumval] = np.median(arg1[numval].astype('float'))\n",
    "    arg1 = arg1.astype('float')\n",
    "    \n",
    "    return(arg1)\n",
    "\n",
    "# Replace column with new median-replaced column\n",
    "autodf.loc[:,'price'] = fill_median(autodf.loc[:,'price'])\n"
   ]
  },
  {
   "cell_type": "code",
   "execution_count": 5,
   "metadata": {},
   "outputs": [
    {
     "name": "stdout",
     "output_type": "stream",
     "text": [
      "symboling              int64\n",
      "normalized-losses     object\n",
      "make                  object\n",
      "fuel-type             object\n",
      "aspiration            object\n",
      "num-of-doors          object\n",
      "body-style            object\n",
      "drive-wheels          object\n",
      "engine-location       object\n",
      "wheel-base           float64\n",
      "length               float64\n",
      "width                float64\n",
      "height               float64\n",
      "curb-weight            int64\n",
      "engine-type           object\n",
      "num-of-cylinders      object\n",
      "engine-size            int64\n",
      "fuel-system           object\n",
      "bore                  object\n",
      "stroke                object\n",
      "compression-ratio    float64\n",
      "horsepower            object\n",
      "peak-rpm              object\n",
      "city-mpg               int64\n",
      "highway-mpg            int64\n",
      "price                float64\n",
      "dtype: object\n",
      "0    13495.0\n",
      "1    16500.0\n",
      "2    16500.0\n",
      "3    13950.0\n",
      "4    17450.0\n",
      "Name: price, dtype: float64\n",
      "[13495. 16500. 13950. 17450. 15250. 17710. 18920. 23875. 10295. 16430.\n",
      " 16925. 20970. 21105. 24565. 30760. 41315. 36880.  5151.  6295.  6575.\n",
      "  5572.  6377.  7957.  6229.  6692.  7609.  8558.  8921. 12964.  6479.\n",
      "  6855.  5399.  6529.  7129.  7295.  7895.  9095.  8845. 12945. 10345.\n",
      "  6785. 11048. 32250. 35550. 36000.  5195.  6095.  6795.  6695.  7395.\n",
      " 10945. 11845. 13645. 15645.  8495. 10595. 10245. 10795. 11245. 18280.\n",
      " 18344. 25552. 28248. 28176. 31600. 34184. 35056. 40960. 45400. 16503.\n",
      "  5389.  6189.  6669.  7689.  9959.  8499. 12629. 14869. 14489.  6989.\n",
      "  8189.  9279.  5499.  7099.  6649.  6849.  7349.  7299.  7799.  7499.\n",
      "  7999.  8249.  8949.  9549. 13499. 14399. 17199. 19699. 18399. 11900.\n",
      " 13200. 12440. 13860. 15580. 16900. 16695. 17075. 16630. 17950. 18150.\n",
      " 12764. 22018. 32528. 34028. 37028.  9295.  9895. 11850. 12170. 15040.\n",
      " 15510. 18620.  5118.  7053.  7603.  7126.  7775.  9960.  9233. 11259.\n",
      "  7463. 10198.  8013. 11694.  5348.  6338.  6488.  6918.  7898.  8778.\n",
      "  6938.  7198.  7788.  7738.  8358.  9258.  8058.  8238.  9298.  9538.\n",
      "  8449.  9639.  9989. 11199. 11549. 17669.  8948. 10698.  9988. 10898.\n",
      " 11248. 16558. 15998. 15690. 15750.  7975.  7995.  8195.  9495.  9995.\n",
      " 11595.  9980. 13295. 13845. 12290. 12940. 13415. 15985. 16515. 18420.\n",
      " 18950. 16845. 19045. 21485. 22470. 22625.]\n"
     ]
    }
   ],
   "source": [
    "# Check to see that column is now numeric / not containing '?'\n",
    "print(autodf.dtypes)\n",
    "print(autodf.loc[:,'price'].head())\n",
    "print(autodf.price.unique())"
   ]
  },
  {
   "cell_type": "code",
   "execution_count": 6,
   "metadata": {},
   "outputs": [
    {
     "data": {
      "text/plain": [
       "symboling              int64\n",
       "normalized-losses     object\n",
       "make                  object\n",
       "fuel-type             object\n",
       "aspiration            object\n",
       "num-of-doors          object\n",
       "body-style            object\n",
       "drive-wheels          object\n",
       "engine-location       object\n",
       "wheel-base           float64\n",
       "length               float64\n",
       "width                float64\n",
       "height               float64\n",
       "curb-weight            int64\n",
       "engine-type           object\n",
       "num-of-cylinders      object\n",
       "engine-size            int64\n",
       "fuel-system           object\n",
       "bore                  object\n",
       "stroke                object\n",
       "compression-ratio    float64\n",
       "horsepower            object\n",
       "peak-rpm              object\n",
       "city-mpg               int64\n",
       "highway-mpg            int64\n",
       "price                float64\n",
       "log-price            float64\n",
       "dtype: object"
      ]
     },
     "execution_count": 6,
     "metadata": {},
     "output_type": "execute_result"
    }
   ],
   "source": [
    "# Create a log-price column\n",
    "autodf.loc[:,'log-price'] = np.log(autodf.loc[:,'price'])\n",
    "\n",
    "#Check if column has been added\n",
    "autodf.dtypes"
   ]
  },
  {
   "cell_type": "code",
   "execution_count": 7,
   "metadata": {},
   "outputs": [
    {
     "data": {
      "text/plain": [
       "Text(0,0.5,'Frequency')"
      ]
     },
     "execution_count": 7,
     "metadata": {},
     "output_type": "execute_result"
    },
    {
     "data": {
      "image/png": "[encoded data removed]",
      "text/plain": [
       "<Figure size 432x288 with 1 Axes>"
      ]
     },
     "metadata": {},
     "output_type": "display_data"
    }
   ],
   "source": [
    "# Plot price\n",
    "# plt.hist(autodf.loc[:,'price'], bins=30, color='white', edgecolor='black')\n",
    "autodf.loc[:,'price'].hist()\n",
    "plt.title('Histogram of auto prices')\n",
    "plt.xlabel('Price')\n",
    "plt.ylabel('Frequency')"
   ]
  },
  {
   "cell_type": "code",
   "execution_count": 8,
   "metadata": {},
   "outputs": [
    {
     "data": {
      "text/plain": [
       "Text(0,0.5,'Frequency')"
      ]
     },
     "execution_count": 8,
     "metadata": {},
     "output_type": "execute_result"
    },
    {
     "data": {
      "image/png": "[encoded data removed]",
      "text/plain": [
       "<Figure size 432x288 with 1 Axes>"
      ]
     },
     "metadata": {},
     "output_type": "display_data"
    }
   ],
   "source": [
    "# Plot log price\n",
    "autodf.loc[:,'log-price'].hist()\n",
    "plt.title('Histogram of auto Log Prices')\n",
    "plt.xlabel('Log Price)')\n",
    "plt.ylabel('Frequency')"
   ]
  },
  {
   "cell_type": "code",
   "execution_count": 9,
   "metadata": {},
   "outputs": [
    {
     "data": {
      "text/plain": [
       "NormaltestResult(statistic=81.8229178484423, pvalue=1.707572463071694e-18)"
      ]
     },
     "execution_count": 9,
     "metadata": {},
     "output_type": "execute_result"
    }
   ],
   "source": [
    "# Statistical normal test\n",
    "stats.normaltest(autodf.loc[:,'price'])"
   ]
  },
  {
   "cell_type": "code",
   "execution_count": 10,
   "metadata": {},
   "outputs": [
    {
     "data": {
      "text/plain": [
       "NormaltestResult(statistic=14.696370952207118, pvalue=0.0006437594180559249)"
      ]
     },
     "execution_count": 10,
     "metadata": {},
     "output_type": "execute_result"
    }
   ],
   "source": [
    "# Statistical tests\n",
    "stats.normaltest(autodf.loc[:,'log-price'])"
   ]
  },
  {
   "cell_type": "markdown",
   "metadata": {},
   "source": [
    "### Interpretations\n",
    "By looking at the histograms of price and log price, we can see that the log price values have a more normal distribution. Once we calculated if the sample is a from a normal distribution with a formal test, we can see that neither are likely from a normal sample. However, the *log-price* is more likely to be from a normal distribution (*p* = .0006)  than the prices before transformation (*p* = 1.7 e-18).  If alpha was above .05 (let's say) then we could interpet these data as being from a normal sample."
   ]
  },
  {
   "cell_type": "markdown",
   "metadata": {},
   "source": [
    "## 2. Test significance of price stratified by a) fuel type, b) aspriation, and c) rear vs. front wheel drive."
   ]
  },
  {
   "cell_type": "code",
   "execution_count": 11,
   "metadata": {},
   "outputs": [
    {
     "name": "stdout",
     "output_type": "stream",
     "text": [
      "symboling              int64\n",
      "normalized-losses     object\n",
      "make                  object\n",
      "fuel-type             object\n",
      "aspiration            object\n",
      "num-of-doors          object\n",
      "body-style            object\n",
      "drive-wheels          object\n",
      "engine-location       object\n",
      "wheel-base           float64\n",
      "length               float64\n",
      "width                float64\n",
      "height               float64\n",
      "curb-weight            int64\n",
      "engine-type           object\n",
      "num-of-cylinders      object\n",
      "engine-size            int64\n",
      "fuel-system           object\n",
      "bore                  object\n",
      "stroke                object\n",
      "compression-ratio    float64\n",
      "horsepower            object\n",
      "peak-rpm              object\n",
      "city-mpg               int64\n",
      "highway-mpg            int64\n",
      "price                float64\n",
      "log-price            float64\n",
      "dtype: object\n"
     ]
    },
    {
     "data": {
      "text/plain": [
       "array(['gas', 'diesel'], dtype=object)"
      ]
     },
     "execution_count": 11,
     "metadata": {},
     "output_type": "execute_result"
    }
   ],
   "source": [
    "# Check data you will be working with\n",
    "print(autodf.dtypes)\n",
    "autodf.loc[:,'fuel-type'].unique()"
   ]
  },
  {
   "cell_type": "markdown",
   "metadata": {},
   "source": [
    "### Comparing price by fuel type"
   ]
  },
  {
   "cell_type": "code",
   "execution_count": 12,
   "metadata": {},
   "outputs": [],
   "source": [
    "# Create t-test for fuel-type\n",
    "# Organize variables\n",
    "gas = autodf.loc[autodf.loc[:,'fuel-type'] == 'gas', 'log-price']\n",
    "diesel = autodf.loc[autodf.loc[:,'fuel-type'] == 'diesel', 'log-price']"
   ]
  },
  {
   "cell_type": "code",
   "execution_count": 23,
   "metadata": {},
   "outputs": [],
   "source": [
    "# Create functions needed for t-test\n",
    "\n",
    "# Create function to define confidence intervals\n",
    "def hist_mean_ci(vec, t_test, bins):\n",
    "    import matplotlib.pyplot as plt\n",
    "    from statistics import mean\n",
    "    upper = mean(vec) + t_test[5] - t_test[1]\n",
    "    lower = mean(vec) + t_test[4] - t_test[1]\n",
    "    plt.hist(vec, bins = bins)\n",
    "    plt.axvline(mean(vec), color = 'red')\n",
    "    plt.axvline(upper, color = 'red', linestyle='--')\n",
    "    plt.axvline(lower, color = 'red', linestyle='--')\n",
    "    plt.ylabel('Frequency')\n",
    "    plt.xlabel('Price')\n",
    "\n",
    "# Create function for plotting t-tests\n",
    "def plot_t(a, b, t_test, cols=['pop_A', 'pop_B'], nbins = 20):\n",
    "    import matplotlib.pyplot as plt\n",
    "    minx = min([min(a), min(b)])\n",
    "    maxx = max([max(a), max(b)])\n",
    "    stepx = (maxx - minx)/(nbins + 1)\n",
    "    bins = [minx + i * stepx for i in range(nbins + 1)]\n",
    "    plt.subplot(2, 1, 1) # The first plot\n",
    "    hist_mean_ci(a, t_test, bins)\n",
    "    plt.title('Histogram of ' + cols[0] + ' and ' + cols[1])\n",
    "    plt.subplot(2, 1, 2) # The next plot\n",
    "    hist_plot(b, bins)\n",
    "    \n",
    "def hist_plot(vec, bins):\n",
    "    import matplotlib.pyplot as plt\n",
    "    from statistics import mean\n",
    "    plt.hist(vec, bins = bins)\n",
    "    plt.axvline(mean(vec), color = 'red')\n",
    "    plt.ylabel('Frequency')\n",
    "    plt.xlabel('Price')\n",
    "    \n",
    "def plot_pop(a, b, cols=['pop_A', 'pop_B'], nbins = 20):\n",
    "    import matplotlib.pyplot as plt\n",
    "    minx = min([min(a), min(b)])\n",
    "    maxx = max([max(a), max(b)])\n",
    "    stepx = (maxx - minx)/(nbins + 1)\n",
    "    bins = [minx + i * stepx for i in range(nbins + 1)]\n",
    "    plt.subplot(2, 1, 1) # The first plot\n",
    "    hist_plot(a, bins)\n",
    "    plt.title('Histogram of ' + cols[0] + ' and ' + cols[1])\n",
    "    plt.subplot(2, 1, 2) # The next plot\n",
    "    hist_plot(b, bins)\n",
    "    \n",
    "def t_test(a, b, alpha, alternative='two-sided'):\n",
    "    from scipy import stats\n",
    "    import scipy.stats as ss\n",
    "    import pandas as pd\n",
    "    import statsmodels.stats.weightstats as ws\n",
    "    \n",
    "    diff = a.mean() - b.mean()\n",
    "\n",
    "    res = ss.ttest_ind(a, b, equal_var=False)\n",
    "      \n",
    "    means = ws.CompareMeans(ws.DescrStatsW(a), ws.DescrStatsW(b))\n",
    "    confint = means.tconfint_diff(alpha=alpha, alternative=alternative, usevar='unequal') \n",
    "    degfree = means.dof_satt()\n",
    "\n",
    "    index = ['DegFreedom', 'Difference', 'Statistic', 'PValue', 'Low95CI', 'High95CI']\n",
    "    return pd.Series([degfree, diff, res[0], res[1], confint[0], confint[1]], index = index) "
   ]
  },
  {
   "cell_type": "code",
   "execution_count": 14,
   "metadata": {},
   "outputs": [
    {
     "name": "stdout",
     "output_type": "stream",
     "text": [
      "DegFreedom    23.423234\n",
      "Difference    -0.232111\n",
      "Statistic     -2.017983\n",
      "PValue         0.055188\n",
      "Low95CI       -0.469812\n",
      "High95CI       0.005591\n",
      "dtype: float64\n"
     ]
    },
    {
     "data": {
      "image/png": "[encoded data removed]",
      "text/plain": [
       "<Figure size 432x288 with 2 Axes>"
      ]
     },
     "metadata": {},
     "output_type": "display_data"
    }
   ],
   "source": [
    "# Feed in fuel-type information\n",
    "test_ft = t_test(gas, diesel, alpha = .05)\n",
    "print(test_ft)\n",
    "plot_t(gas, diesel, test_ft)\n"
   ]
  },
  {
   "cell_type": "markdown",
   "metadata": {},
   "source": [
    "### Interpretations (price by fuel type)\n",
    "As seen from the two above histograms (top = gas, bottom = diesel), the spread of gas powered cars compared to diesel cars is very different. By simply looking without any number crunching, we can see there are many more gas powered vehicles than diesel powered vehicles, which should be taken into consideration when interpreting results. The solid red line shows the mean of each respective fuel type. As seen above, the mean price for gas vehicles is lower than that of diesel vehicles. However, the high confidence interval value for the gas cars is almost exactly in the same place as our diesel pwered vehicle mean. To get an exact measure, we look to our statistical test. When comparing the values of gas and diesel cars, we get *p* = 0.055. Give our a priori decision of p must = less than .05 to reject the mean. We can just barely reject the mean here, meaning that the prices of gas versus diesel cars is *significantly* different, but only just barely. Gathering more data points for diesel cars would likely move the mean in either direction, yeilding more clear restuls for the t-test."
   ]
  },
  {
   "cell_type": "markdown",
   "metadata": {},
   "source": [
    "### Comparing price by aspiration"
   ]
  },
  {
   "cell_type": "code",
   "execution_count": 15,
   "metadata": {},
   "outputs": [
    {
     "name": "stdout",
     "output_type": "stream",
     "text": [
      "symboling              int64\n",
      "normalized-losses     object\n",
      "make                  object\n",
      "fuel-type             object\n",
      "aspiration            object\n",
      "num-of-doors          object\n",
      "body-style            object\n",
      "drive-wheels          object\n",
      "engine-location       object\n",
      "wheel-base           float64\n",
      "length               float64\n",
      "width                float64\n",
      "height               float64\n",
      "curb-weight            int64\n",
      "engine-type           object\n",
      "num-of-cylinders      object\n",
      "engine-size            int64\n",
      "fuel-system           object\n",
      "bore                  object\n",
      "stroke                object\n",
      "compression-ratio    float64\n",
      "horsepower            object\n",
      "peak-rpm              object\n",
      "city-mpg               int64\n",
      "highway-mpg            int64\n",
      "price                float64\n",
      "log-price            float64\n",
      "dtype: object\n",
      "['std' 'turbo']\n"
     ]
    },
    {
     "data": {
      "text/plain": [
       "0    9.510075\n",
       "1    9.711116\n",
       "2    9.711116\n",
       "3    9.543235\n",
       "4    9.767095\n",
       "Name: log-price, dtype: float64"
      ]
     },
     "execution_count": 15,
     "metadata": {},
     "output_type": "execute_result"
    }
   ],
   "source": [
    "# Create t-test for aspiration\n",
    "\n",
    "# Check data\n",
    "print(autodf.dtypes)\n",
    "print(autodf.loc[:,'aspiration'].unique())\n",
    "\n",
    "# Organize variables\n",
    "std = autodf.loc[autodf.loc[:,'aspiration'] == 'std', 'log-price']\n",
    "turbo = autodf.loc[autodf.loc[:,'aspiration'] == 'turbo', 'log-price']\n",
    "\n",
    "std.head()"
   ]
  },
  {
   "cell_type": "code",
   "execution_count": 16,
   "metadata": {},
   "outputs": [
    {
     "name": "stdout",
     "output_type": "stream",
     "text": [
      "DegFreedom    66.240183\n",
      "Difference    -0.326451\n",
      "Statistic     -4.416153\n",
      "PValue         0.000038\n",
      "Low95CI       -0.474032\n",
      "High95CI      -0.178871\n",
      "dtype: float64\n"
     ]
    },
    {
     "data": {
      "image/png": "[encoded data removed]",
      "text/plain": [
       "<Figure size 432x288 with 2 Axes>"
      ]
     },
     "metadata": {},
     "output_type": "display_data"
    }
   ],
   "source": [
    "# Feed in aspiration information\n",
    "test_asp = t_test(std, turbo, alpha = .05)\n",
    "\n",
    "print(test_asp)\n",
    "plot_t(std, turbo, test_asp)"
   ]
  },
  {
   "cell_type": "markdown",
   "metadata": {},
   "source": [
    "### Interpretations (price by aspiration)\n",
    "There are clearly more standard aspirations than turbo aspirations, this is generally good to keep in mind when making observations as the mean for the lesser group (in this case turbo) would likely change. The means (solid red lines) appear to be different from one another, but by simply looking at the solid line we cannot determine this. However, by looking at the high confidence interval value for standard aspirations (top) we can see that mean for turbo aspirations (bottom) is above that, meaning that the two price values for each type of car are significantly different. By looking at the stats we have created, we can see that *p* < .005 (.000), meaning that we can confidently reject the null hypothesis."
   ]
  },
  {
   "cell_type": "markdown",
   "metadata": {},
   "source": [
    "### Comparing price by drive type"
   ]
  },
  {
   "cell_type": "code",
   "execution_count": 17,
   "metadata": {},
   "outputs": [
    {
     "name": "stdout",
     "output_type": "stream",
     "text": [
      "symboling              int64\n",
      "normalized-losses     object\n",
      "make                  object\n",
      "fuel-type             object\n",
      "aspiration            object\n",
      "num-of-doors          object\n",
      "body-style            object\n",
      "drive-wheels          object\n",
      "engine-location       object\n",
      "wheel-base           float64\n",
      "length               float64\n",
      "width                float64\n",
      "height               float64\n",
      "curb-weight            int64\n",
      "engine-type           object\n",
      "num-of-cylinders      object\n",
      "engine-size            int64\n",
      "fuel-system           object\n",
      "bore                  object\n",
      "stroke                object\n",
      "compression-ratio    float64\n",
      "horsepower            object\n",
      "peak-rpm              object\n",
      "city-mpg               int64\n",
      "highway-mpg            int64\n",
      "price                float64\n",
      "log-price            float64\n",
      "dtype: object\n",
      "['rwd' 'fwd' '4wd']\n"
     ]
    }
   ],
   "source": [
    "# Create t-test for drive type\n",
    "\n",
    "# Check data\n",
    "print(autodf.dtypes)\n",
    "print(autodf.loc[:,'drive-wheels'].unique())\n",
    "\n",
    "# Organize variables\n",
    "rwd = autodf.loc[autodf.loc[:,'drive-wheels'] == 'rwd', 'log-price']\n",
    "fwd = autodf.loc[autodf.loc[:,'drive-wheels'] == 'fwd', 'log-price']"
   ]
  },
  {
   "cell_type": "code",
   "execution_count": 18,
   "metadata": {},
   "outputs": [
    {
     "name": "stdout",
     "output_type": "stream",
     "text": [
      "DegFreedom    1.240960e+02\n",
      "Difference    7.075543e-01\n",
      "Statistic     1.217148e+01\n",
      "PValue        6.500851e-23\n",
      "Low95CI       5.924954e-01\n",
      "High95CI      8.226133e-01\n",
      "dtype: float64\n"
     ]
    },
    {
     "data": {
      "image/png": "[encoded data removed]",
      "text/plain": [
       "<Figure size 432x288 with 2 Axes>"
      ]
     },
     "metadata": {},
     "output_type": "display_data"
    }
   ],
   "source": [
    "# Feed in drive-wheels information\n",
    "test_dw = t_test(rwd, fwd, alpha = .05)\n",
    "\n",
    "print(test_dw)\n",
    "plot_t(rwd, fwd, test_dw)"
   ]
  },
  {
   "cell_type": "markdown",
   "metadata": {},
   "source": [
    "### Interpretations (price by drive type)\n",
    "This is the most significant difference we have seen between prices yet, with fwe (bottom) clearly having a majority of the values lower than that of rwd (top) cars. This interpretation is solidified by examining the statistics and seeing that*p* <.000. This means we can have a high confidence in rejecting the null hypothesis, or, in other words, have a high confidence in saying rwd and fwd have significantly different price points."
   ]
  },
  {
   "cell_type": "markdown",
   "metadata": {},
   "source": [
    "## 3. Apply ANOVA and Tukey's HSD test to the autoprice data to compare the price (or log price) of autos stratified by body style."
   ]
  },
  {
   "cell_type": "code",
   "execution_count": 19,
   "metadata": {},
   "outputs": [
    {
     "data": {
      "text/plain": [
       "array(['convertible', 'hatchback', 'sedan', 'wagon', 'hardtop'],\n",
       "      dtype=object)"
      ]
     },
     "execution_count": 19,
     "metadata": {},
     "output_type": "execute_result"
    }
   ],
   "source": [
    "# Check data\n",
    "autodf.dtypes\n",
    "autodf.loc[:,'body-style'].head()\n",
    "autodf.loc[:,'body-style'].unique()"
   ]
  },
  {
   "cell_type": "markdown",
   "metadata": {},
   "source": [
    "## 4. Graphically explore the differences between price conditioned by the categories of each variable"
   ]
  },
  {
   "cell_type": "code",
   "execution_count": 20,
   "metadata": {},
   "outputs": [
    {
     "name": "stdout",
     "output_type": "stream",
     "text": [
      "6 70 96 25 8\n"
     ]
    },
    {
     "data": {
      "image/png": "[encoded data removed]",
      "text/plain": [
       "<Figure size 432x288 with 1 Axes>"
      ]
     },
     "metadata": {},
     "output_type": "display_data"
    }
   ],
   "source": [
    "# Create dfs of different body syles\n",
    "convertible = autodf.loc[autodf.loc[:, 'body-style'] == 'convertible', 'log-price']\n",
    "hatchback = autodf.loc[autodf.loc[:,'body-style'] == 'hatchback', 'log-price']\n",
    "sedan = autodf.loc[autodf.loc[:,'body-style'] == 'sedan', 'log-price']\n",
    "wagon = autodf.loc[autodf.loc[:,'body-style'] == 'wagon', 'log-price']\n",
    "hardtop = autodf.loc[autodf.loc[:,'body-style'] == 'hardtop', 'log-price']\n",
    "\n",
    "plt.boxplot([convertible, hatchback, sedan, wagon, hardtop])\n",
    "plt.ylabel('Value')\n",
    "plt.xlabel('Variable')\n",
    "plt.title('Box plot of variables')\n",
    "\n",
    "# Check how many autos in each group\n",
    "print(len(convertible), len(hatchback), len(sedan), len(wagon), len(hardtop))"
   ]
  },
  {
   "cell_type": "markdown",
   "metadata": {},
   "source": [
    "##### **Looks like there is only 6 Convertible and 8 Hardtops, this is not sufficient data to have reliable results. Thus, we remove these autos from further testing.*"
   ]
  },
  {
   "cell_type": "markdown",
   "metadata": {},
   "source": [
    "## 5. Use standard ANOVA and Tukey HSD to test the differences of these groups"
   ]
  },
  {
   "cell_type": "code",
   "execution_count": 21,
   "metadata": {},
   "outputs": [
    {
     "name": "stdout",
     "output_type": "stream",
     "text": [
      "F statistic = 9.253897134092183\n",
      "P-value = 0.00014682895957931244\n"
     ]
    }
   ],
   "source": [
    "# Model the ANOVA of the values by groups/print results\n",
    "f_statistic, p_value = ss.f_oneway(hatchback, sedan, wagon)\n",
    "print('F statistic = ' + str(f_statistic))\n",
    "print('P-value = ' + str(p_value))"
   ]
  },
  {
   "cell_type": "markdown",
   "metadata": {},
   "source": [
    "### Calculate Tukey HSD"
   ]
  },
  {
   "cell_type": "code",
   "execution_count": 22,
   "metadata": {},
   "outputs": [
    {
     "name": "stdout",
     "output_type": "stream",
     "text": [
      "Multiple Comparison of Means - Tukey HSD,FWER=0.05\n",
      "===============================================\n",
      "  group1  group2 meandiff  lower  upper  reject\n",
      "-----------------------------------------------\n",
      "hatchback sedan   0.3035   0.1359 0.4712  True \n",
      "hatchback wagon   0.2197  -0.0288 0.4682 False \n",
      "  sedan   wagon  -0.0838  -0.3233 0.1557 False \n",
      "-----------------------------------------------\n"
     ]
    }
   ],
   "source": [
    "from statsmodels.stats.multicomp import pairwise_tukeyhsd\n",
    "from statsmodels.stats.multicomp import MultiComparison\n",
    "\n",
    "# Create df without convertible or hardtop\n",
    "autodf2 = autodf[autodf.loc[:, 'body-style'].isin(['hatchback', 'sedan', 'wagon'])]\n",
    "\n",
    "# Calculate Tukey HSD\n",
    "mc = MultiComparison(autodf2.loc[:,'log-price'], autodf2.loc[:,'body-style'])\n",
    "mc_results = mc.tukeyhsd()\n",
    "print(mc_results)\n"
   ]
  },
  {
   "cell_type": "markdown",
   "metadata": {},
   "source": [
    "### Interpretations\n",
    "Convertibles and hard tops were removed prior to ANOVA and Tukey HSD due to insufficient data. When left with hatchbacks, sedans, and wagons, we are able to calculate reliable ANOVAs and Tukey HSD. With a p-value of < .05, we can reject the null hypothesis that all the groups came from the same sample. However, the ANOVA does not tell us which group is significantly larger or smaller than the other. The Tukey HSD table generate above shows that we can reject the null hypothesis for one comparison: Hatchback v. Sedan. This means that prices for a Hatchback is significantly different than that of a Sedan."
   ]
  }
 ],
 "metadata": {
  "kernelspec": {
   "display_name": "Python 3",
   "language": "python",
   "name": "python3"
  },
  "language_info": {
   "codemirror_mode": {
    "name": "ipython",
    "version": 3
   },
   "file_extension": ".py",
   "mimetype": "text/x-python",
   "name": "python",
   "nbconvert_exporter": "python",
   "pygments_lexer": "ipython3",
   "version": "3.7.4"
  }
 },
 "nbformat": 4,
 "nbformat_minor": 2
}
