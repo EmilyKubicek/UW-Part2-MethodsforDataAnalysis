{
 "cells": [
  {
   "cell_type": "markdown",
   "metadata": {},
   "source": [
    "# Lesson 6 Assignment - Advertising Sales Regression\n",
    "\n",
    "## Author - Studentname\n",
    "\n"
   ]
  },
  {
   "cell_type": "markdown",
   "metadata": {},
   "source": [
    "### Instructions  \n",
    "Perform four different linear regressions on advertising sales data located in 'Advertising.csv'.  Your dependent feature is 'sales', a measure of sales of a product in a given market in thousands of dollars. \n",
    "\n",
    "The independent features for each of the first 3 separate regressions are:\n",
    "\n",
    " 1. 'TV': advertising dollars spent on TV ads for a single product in a given market\n",
    " 2. 'radio': advertising dollars spent on radio ads\n",
    " 3. 'newspaper': advertising dollars spent on newspaper ads\n",
    "\n",
    "For the first 3 linear regression performed:\n",
    "\n",
    "- Produce a labeled graph showing the best fit line with the data points.\n",
    "- Interpret both the slope and y-intercept.\n",
    " \n",
    "The final regression(#4) includes all 3 features: (a) TV, (b) radio, and (c) newspaper. \n",
    "- Interpret each partial slope and the intercept parameters.\n",
    "- Interpret the adjusted R-squared.\n",
    "- Find and report the mean-squared error.\n",
    "\n",
    "#### Please prepare this information for a client who may not understand what the parameters mean.\n"
   ]
  },
  {
   "cell_type": "code",
   "execution_count": 4,
   "metadata": {},
   "outputs": [],
   "source": [
    "# Import libraries\n",
    "import numpy as np\n",
    "import pandas as pd\n",
    "import matplotlib.pyplot as plt\n",
    "from sklearn.linear_model import LinearRegression\n",
    "from sklearn.metrics import mean_squared_error, r2_score\n",
    "from sklearn import linear_model\n",
    "\n",
    "%matplotlib inline"
   ]
  },
  {
   "cell_type": "code",
   "execution_count": 3,
   "metadata": {},
   "outputs": [
    {
     "name": "stdout",
     "output_type": "stream",
     "text": [
      "      TV  radio  newspaper  sales\n",
      "1  230.1   37.8       69.2   22.1\n",
      "2   44.5   39.3       45.1   10.4\n",
      "3   17.2   45.9       69.3    9.3\n",
      "4  151.5   41.3       58.5   18.5\n",
      "5  180.8   10.8       58.4   12.9\n",
      "(200, 4)\n"
     ]
    },
    {
     "data": {
      "text/html": [
       "<div>\n",
       "<style scoped>\n",
       "    .dataframe tbody tr th:only-of-type {\n",
       "        vertical-align: middle;\n",
       "    }\n",
       "\n",
       "    .dataframe tbody tr th {\n",
       "        vertical-align: top;\n",
       "    }\n",
       "\n",
       "    .dataframe thead th {\n",
       "        text-align: right;\n",
       "    }\n",
       "</style>\n",
       "<table border=\"1\" class=\"dataframe\">\n",
       "  <thead>\n",
       "    <tr style=\"text-align: right;\">\n",
       "      <th></th>\n",
       "      <th>TV</th>\n",
       "      <th>radio</th>\n",
       "      <th>newspaper</th>\n",
       "      <th>sales</th>\n",
       "    </tr>\n",
       "  </thead>\n",
       "  <tbody>\n",
       "    <tr>\n",
       "      <td>count</td>\n",
       "      <td>200.000000</td>\n",
       "      <td>200.000000</td>\n",
       "      <td>200.000000</td>\n",
       "      <td>200.000000</td>\n",
       "    </tr>\n",
       "    <tr>\n",
       "      <td>mean</td>\n",
       "      <td>147.042500</td>\n",
       "      <td>23.264000</td>\n",
       "      <td>30.554000</td>\n",
       "      <td>14.022500</td>\n",
       "    </tr>\n",
       "    <tr>\n",
       "      <td>std</td>\n",
       "      <td>85.854236</td>\n",
       "      <td>14.846809</td>\n",
       "      <td>21.778621</td>\n",
       "      <td>5.217457</td>\n",
       "    </tr>\n",
       "    <tr>\n",
       "      <td>min</td>\n",
       "      <td>0.700000</td>\n",
       "      <td>0.000000</td>\n",
       "      <td>0.300000</td>\n",
       "      <td>1.600000</td>\n",
       "    </tr>\n",
       "    <tr>\n",
       "      <td>25%</td>\n",
       "      <td>74.375000</td>\n",
       "      <td>9.975000</td>\n",
       "      <td>12.750000</td>\n",
       "      <td>10.375000</td>\n",
       "    </tr>\n",
       "    <tr>\n",
       "      <td>50%</td>\n",
       "      <td>149.750000</td>\n",
       "      <td>22.900000</td>\n",
       "      <td>25.750000</td>\n",
       "      <td>12.900000</td>\n",
       "    </tr>\n",
       "    <tr>\n",
       "      <td>75%</td>\n",
       "      <td>218.825000</td>\n",
       "      <td>36.525000</td>\n",
       "      <td>45.100000</td>\n",
       "      <td>17.400000</td>\n",
       "    </tr>\n",
       "    <tr>\n",
       "      <td>max</td>\n",
       "      <td>296.400000</td>\n",
       "      <td>49.600000</td>\n",
       "      <td>114.000000</td>\n",
       "      <td>27.000000</td>\n",
       "    </tr>\n",
       "  </tbody>\n",
       "</table>\n",
       "</div>"
      ],
      "text/plain": [
       "               TV       radio   newspaper       sales\n",
       "count  200.000000  200.000000  200.000000  200.000000\n",
       "mean   147.042500   23.264000   30.554000   14.022500\n",
       "std     85.854236   14.846809   21.778621    5.217457\n",
       "min      0.700000    0.000000    0.300000    1.600000\n",
       "25%     74.375000    9.975000   12.750000   10.375000\n",
       "50%    149.750000   22.900000   25.750000   12.900000\n",
       "75%    218.825000   36.525000   45.100000   17.400000\n",
       "max    296.400000   49.600000  114.000000   27.000000"
      ]
     },
     "execution_count": 3,
     "metadata": {},
     "output_type": "execute_result"
    }
   ],
   "source": [
    "# Load data\n",
    "filename = 'https://library.startlearninglabs.uw.edu/DATASCI410/Datasets/Advertising.csv'\n",
    "ad_data = pd.read_csv(filename, index_col=0)\n",
    "\n",
    "# Check data\n",
    "print(ad_data.head())\n",
    "print(ad_data.shape)\n",
    "ad_data.describe()"
   ]
  },
  {
   "cell_type": "markdown",
   "metadata": {},
   "source": [
    "## Univariate Linear Regressions"
   ]
  },
  {
   "cell_type": "code",
   "execution_count": 27,
   "metadata": {},
   "outputs": [
    {
     "name": "stdout",
     "output_type": "stream",
     "text": [
      "Slope: [[0.04753664]]\n",
      "Intercept: [7.03259355]\n",
      "Root mean squared error: 10.512652915656757\n",
      "R2 score: 0.611875050850071\n"
     ]
    },
    {
     "data": {
      "image/png": "[encoded data removed]",
      "text/plain": [
       "<Figure size 432x288 with 1 Axes>"
      ]
     },
     "metadata": {
      "needs_background": "light"
     },
     "output_type": "display_data"
    }
   ],
   "source": [
    "# Create numpy arrays for the tv (independent) and sales (dependent variables)\n",
    "tv = ad_data['TV'].values.reshape(-1,1)\n",
    "sales = ad_data['sales'].values.reshape(-1,1)\n",
    "\n",
    "\n",
    "# Model initialization\n",
    "regression_model = LinearRegression()\n",
    "\n",
    "# Fit the data (train the model)\n",
    "regression_model.fit(tv, sales)\n",
    "\n",
    "# Predict\n",
    "sales_predicted_tv = regression_model.predict(tv)\n",
    "\n",
    "# Model evaluation\n",
    "rmse = mean_squared_error(sales, sales_predicted_tv)\n",
    "r2 = r2_score(sales, sales_predicted_tv)\n",
    "\n",
    "# Print info\n",
    "print('Slope:', regression_model.coef_)\n",
    "print('Intercept:', regression_model.intercept_)\n",
    "print('Root mean squared error:', rmse)\n",
    "print('R2 score:', r2)\n",
    "\n",
    "# Plot values\n",
    "# Actual data points\n",
    "plt.scatter(tv, sales)\n",
    "plt.xlabel('tv')\n",
    "plt.ylabel('sales')\n",
    "\n",
    "# Predicted values\n",
    "plt.plot(tv, sales_predicted_tv, color = 'r')\n",
    "plt.show()\n"
   ]
  },
  {
   "cell_type": "markdown",
   "metadata": {},
   "source": [
    "#### What can we learn from this TV/sales linear regression?\n",
    "As we move along the line, as the value of TV dollars increases by 1, the value of sales dollars increases by about .05. This helps inform on how much we can expect sales to change as tv increases. With a y-intercept of about 7,000 dollars, we can extrapolate that when we do not spend any money on tv advertising, sales are still in the 7,000 dollar range. Interestingly, when looking at r2, we see that our model explains about 61% of the variability of the dependent variable (sales)."
   ]
  },
  {
   "cell_type": "code",
   "execution_count": 29,
   "metadata": {},
   "outputs": [
    {
     "name": "stdout",
     "output_type": "stream",
     "text": [
      "Slope: [[0.20249578]]\n",
      "Intercept: [9.3116381]\n",
      "Root mean squared error: 18.09239774512544\n",
      "R2 score: 0.33203245544529525\n"
     ]
    },
    {
     "data": {
      "image/png": "[encoded data removed]",
      "text/plain": [
       "<Figure size 432x288 with 1 Axes>"
      ]
     },
     "metadata": {
      "needs_background": "light"
     },
     "output_type": "display_data"
    }
   ],
   "source": [
    "# Create numpy arrays for the tv (independent) and sales (dependent variables)\n",
    "radio = ad_data['radio'].values.reshape(-1,1)\n",
    "\n",
    "# Model initialization\n",
    "regression_model = LinearRegression()\n",
    "\n",
    "# Fit the data (train the model)\n",
    "regression_model.fit(radio, sales)\n",
    "\n",
    "# Predict\n",
    "sales_predicted_radio = regression_model.predict(radio)\n",
    "\n",
    "# Model evaluation\n",
    "rmse = mean_squared_error(sales, sales_predicted_radio)\n",
    "r2 = r2_score(sales, sales_predicted_radio)\n",
    "\n",
    "# Print info\n",
    "print('Slope:', regression_model.coef_)\n",
    "print('Intercept:', regression_model.intercept_)\n",
    "print('Root mean squared error:', rmse)\n",
    "print('R2 score:', r2)\n",
    "\n",
    "# Plot values\n",
    "# Actual data points\n",
    "plt.scatter(radio, sales)\n",
    "plt.xlabel('radio')\n",
    "plt.ylabel('sales')\n",
    "\n",
    "# Predicted values\n",
    "plt.plot(radio, sales_predicted_radio, color = 'r')\n",
    "plt.show()\n"
   ]
  },
  {
   "cell_type": "markdown",
   "metadata": {},
   "source": [
    "#### What can we learn from this radio/sales linear regression?\n",
    "As we move along the line, as the value of radio dollars increases by 1, the value of sales dollars increases by about .2. This helps inform on how much we can expect sales to change as radio increases. With a y-intercept of about 9,000 dollars, we can extrapolate that when we do not spend any money on radio advertising, sales are still in the 9,000 dollar range. Our r-squared show that only 33% of the variability in our sales data can be explained by TV advertisements."
   ]
  },
  {
   "cell_type": "code",
   "execution_count": 31,
   "metadata": {},
   "outputs": [
    {
     "name": "stdout",
     "output_type": "stream",
     "text": [
      "Slope: [[0.0546931]]\n",
      "Intercept: [12.35140707]\n",
      "Root mean squared error: 25.674022720559698\n",
      "R2 score: 0.05212044544430516\n"
     ]
    },
    {
     "data": {
      "image/png": "[encoded data removed]",
      "text/plain": [
       "<Figure size 432x288 with 1 Axes>"
      ]
     },
     "metadata": {
      "needs_background": "light"
     },
     "output_type": "display_data"
    }
   ],
   "source": [
    "# Create numpy arrays for the tv (independent) and sales (dependent variables)\n",
    "news = ad_data['newspaper'].values.reshape(-1,1)\n",
    "\n",
    "# Model initialization\n",
    "regression_model = LinearRegression()\n",
    "\n",
    "# Fit the data (train the model)\n",
    "regression_model.fit(news, sales)\n",
    "\n",
    "# Predict\n",
    "sales_predicted_news = regression_model.predict(news)\n",
    "\n",
    "# Model evaluation\n",
    "rmse = mean_squared_error(sales, sales_predicted_news)\n",
    "r2 = r2_score(sales, sales_predicted_news)\n",
    "\n",
    "# Print info\n",
    "print('Slope:', regression_model.coef_)\n",
    "print('Intercept:', regression_model.intercept_)\n",
    "print('Root mean squared error:', rmse)\n",
    "print('R2 score:', r2)\n",
    "\n",
    "# Plot values\n",
    "# Actual data points\n",
    "plt.scatter(news, sales)\n",
    "plt.xlabel('news')\n",
    "plt.ylabel('sales')\n",
    "\n",
    "# Predicted values\n",
    "plt.plot(news, sales_predicted_news, color = 'r')\n",
    "plt.show()"
   ]
  },
  {
   "cell_type": "markdown",
   "metadata": {},
   "source": [
    "#### What can we learn from this newspaper/sales linear regression?\n",
    "As we move along the line, as the value of radio dollars increases by 1, the value of sales dollars increases by about .05. This helps inform on how much we can expect sales to change as newspaper dollars increase. With a y-intercept of about 12,000 dollars, we can extrapolate that when we do not spend any money on newspaper advertising, sales are still in the 12,000 dollar range. The lowest of the three advertising media, we can see that with an r-squared of .05, very little, if any, of the variation in sales can be attributed to newspaper advertisements."
   ]
  },
  {
   "cell_type": "markdown",
   "metadata": {},
   "source": [
    "## Multiple Linear Regression"
   ]
  },
  {
   "cell_type": "code",
   "execution_count": 59,
   "metadata": {},
   "outputs": [
    {
     "name": "stdout",
     "output_type": "stream",
     "text": [
      "    Actual  Predicted\n",
      "0     11.3  10.057396\n",
      "1      8.4   7.452281\n",
      "2      8.7   7.019708\n",
      "3     25.4  24.080297\n",
      "4     11.7  12.017863\n",
      "5      8.7   6.537939\n",
      "6      7.2  12.782869\n",
      "7     13.2  15.109746\n",
      "8      9.2  10.769740\n",
      "9     16.6  16.343580\n",
      "10    24.2  22.882975\n",
      "11    10.6   9.129245\n",
      "12    10.5  10.464557\n",
      "13    15.6  15.487436\n",
      "14    11.8  11.585556\n",
      "15    13.2  12.172969\n",
      "16    17.4  18.765515\n",
      "17     1.6  10.783186\n",
      "18    14.7  15.905160\n",
      "19    17.0  17.306513\n",
      "20    26.2  24.066921\n",
      "21    10.3   9.598342\n",
      "22    14.9  15.135122\n",
      "23    12.9  12.385915\n",
      "24     8.1   5.713609\n",
      "Mean Squared Error: 4.402118291449686\n",
      "adj r-squared: 0.8732795366421202\n",
      "Intercept: 2.99489303049533\n",
      "Slope: [ 0.04458402  0.19649703 -0.00278146]\n"
     ]
    }
   ],
   "source": [
    "# Import libraries\n",
    "from sklearn.model_selection import train_test_split \n",
    "from sklearn import metrics\n",
    "\n",
    "# Set features and set dependent variable (sales)\n",
    "features = ad_data[['TV', 'radio','newspaper']].values\n",
    "dependent = ad_data['sales'].values\n",
    "\n",
    "# Split 80% of the data to the training set - with 20% of the data to test with our model\n",
    "features_train, features_test, dependent_train, dependent_test = train_test_split(features, dependent, test_size = 0.2, random_state = 0)\n",
    "\n",
    "# Train model\n",
    "regressor = LinearRegression()\n",
    "regressor.fit(features_train, dependent_train)\n",
    "\n",
    "# Do prediction on test data\n",
    "dependent_prediction = regressor.predict(features_test)\n",
    "\n",
    "# Check the difference between actual/predicted value\n",
    "model_check = pd.DataFrame({'Actual': dependent_test, 'Predicted': dependent_prediction})\n",
    "model_check1 = model_check.head(25)\n",
    "print(model_check1)\n",
    "\n",
    "adjr2 = 1-(1-(metrics.r2_score(dependent_test, dependent_prediction))*(200-1)/(200-3-1))\n",
    "\n",
    "# Evaluate performance\n",
    "print('Mean Squared Error:', metrics.mean_squared_error(dependent_test, dependent_prediction))\n",
    "print('adj r-squared:', adjr2)\n",
    "print('Intercept:', regressor.intercept_)\n",
    "print('Slope:', regressor.coef_)\n"
   ]
  },
  {
   "cell_type": "markdown",
   "metadata": {},
   "source": [
    "#### What can we learn from this multiple linear regression?\n",
    "As we move along the line we can see that as the value of advertising dollars increases by 1, the value of sales increases by .04, .20, and (decrease) -0.002 for tv, radio, and newspaper, respectively - which are about our values for the slopes for out univariate linear regressions above. However, it is important to not the negative sign for the newspaper feature. When further investigating the univariate plots above, we see that the relationship appears almost random. Since the -0.002 slope is so close to zero, as is our slope for the univariate regression, I would be weary to assume positive or negative influence of newspaper advertisements on sales at all. The intercept for this multiple regression implies that even if we were to spend zero dollars on advertising, our sales would still yield about a 3,000 dollar revenue. To inform a but more on this, we can look at our adjusted r-squared. Looking at this statistic, we can see that advertisement can account for 87% variability in sales. This is great! This means that overall our advertising is really working. Our mean square error is relatively small, with a value of 4.4, suggesting that our model is pretty close to the line of best fit."
   ]
  },
  {
   "cell_type": "markdown",
   "metadata": {},
   "source": [
    "## Bottom line\n",
    "\n",
    "### Overall, advertising is making a considerable impact on sales. Advertising dollars spent on TV and radio are yielding consistent gains in sales. However, the newspaper advertising strategy should be revisited to either be altered or be gotten rid of, as gains in sales are not evident by the current newspaper advertising strategy."
   ]
  }
 ],
 "metadata": {
  "kernelspec": {
   "display_name": "Python 3",
   "language": "python",
   "name": "python3"
  },
  "language_info": {
   "codemirror_mode": {
    "name": "ipython",
    "version": 3
   },
   "file_extension": ".py",
   "mimetype": "text/x-python",
   "name": "python",
   "nbconvert_exporter": "python",
   "pygments_lexer": "ipython3",
   "version": "3.7.4"
  }
 },
 "nbformat": 4,
 "nbformat_minor": 2
}
