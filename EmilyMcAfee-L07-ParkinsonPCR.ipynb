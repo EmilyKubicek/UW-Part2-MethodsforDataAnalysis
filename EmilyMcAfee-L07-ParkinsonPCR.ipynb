{
 "cells": [
  {
   "cell_type": "markdown",
   "metadata": {},
   "source": [
    "# Lesson 7 - Parkinson PCR\n",
    "\n",
    "## Author - Studentname"
   ]
  },
  {
   "cell_type": "markdown",
   "metadata": {},
   "source": [
    "### Description:\n",
    "\n",
    "Perform Principal Component Regression on a <a href=\"https://archive.ics.uci.edu/ml/datasets/parkinsons+telemonitoring\">dataset that tracked patients with Parkinson's Disease</a>.\n",
    "\n",
    "Citation: A Tsanas, MA Little, PE McSharry, LO Ramig (2009)\n",
    "'Accurate telemonitoring of Parkinson's disease progression by non-invasive speech tests',\n",
    "IEEE Transactions on Biomedical Engineering.\n",
    "\n",
    "About the data:\n",
    "This dataset is composed of a range of biomedical voice measurements from 42 people with early-stage Parkinson's disease recruited to a six-month trial of a telemonitoring device for remote symptom progression monitoring. The recordings were automatically captured in the patient's homes.\n",
    "\n",
    "#### Instructions:\n",
    "\n",
    " 1. Load the dataset.\n",
    " 2. Create the X-matrix (one-hot encoding categorical factors).\n",
    " 3. Scale the X-matrix.\n",
    " 4. Create the principal components and do a simple plot of the explained variance.\n",
    " 5. PCR - Linear regression with the principal components.\n",
    "\n",
    "Report on:\n",
    "\n",
    " 1. Number of components before and after (choose a smaller number of principal components and explain how you chose them).\n",
    " 2. Interpret the adjusted R-squared."
   ]
  },
  {
   "cell_type": "code",
   "execution_count": 1,
   "metadata": {},
   "outputs": [],
   "source": [
    "filename = \"https://archive.ics.uci.edu/ml/machine-learning-databases/parkinsons/telemonitoring/parkinsons_updrs.data\""
   ]
  },
  {
   "cell_type": "code",
   "execution_count": 2,
   "metadata": {},
   "outputs": [],
   "source": [
    "import pandas as pd\n",
    "import numpy as np\n",
    "from sklearn.decomposition import PCA\n",
    "import matplotlib.pyplot as plt\n",
    "import statsmodels.formula.api as sm\n",
    "import seaborn as sns"
   ]
  },
  {
   "cell_type": "code",
   "execution_count": 3,
   "metadata": {},
   "outputs": [
    {
     "name": "stdout",
     "output_type": "stream",
     "text": [
      "   subject#  age  sex  test_time  motor_UPDRS  total_UPDRS  Jitter(%)  \\\n",
      "0         1   72    0     5.6431       28.199       34.398    0.00662   \n",
      "1         1   72    0    12.6660       28.447       34.894    0.00300   \n",
      "2         1   72    0    19.6810       28.695       35.389    0.00481   \n",
      "3         1   72    0    25.6470       28.905       35.810    0.00528   \n",
      "4         1   72    0    33.6420       29.187       36.375    0.00335   \n",
      "\n",
      "   Jitter(Abs)  Jitter:RAP  Jitter:PPQ5  ...  Shimmer(dB)  Shimmer:APQ3  \\\n",
      "0     0.000034     0.00401      0.00317  ...        0.230       0.01438   \n",
      "1     0.000017     0.00132      0.00150  ...        0.179       0.00994   \n",
      "2     0.000025     0.00205      0.00208  ...        0.181       0.00734   \n",
      "3     0.000027     0.00191      0.00264  ...        0.327       0.01106   \n",
      "4     0.000020     0.00093      0.00130  ...        0.176       0.00679   \n",
      "\n",
      "   Shimmer:APQ5  Shimmer:APQ11  Shimmer:DDA       NHR     HNR     RPDE  \\\n",
      "0       0.01309        0.01662      0.04314  0.014290  21.640  0.41888   \n",
      "1       0.01072        0.01689      0.02982  0.011112  27.183  0.43493   \n",
      "2       0.00844        0.01458      0.02202  0.020220  23.047  0.46222   \n",
      "3       0.01265        0.01963      0.03317  0.027837  24.445  0.48730   \n",
      "4       0.00929        0.01819      0.02036  0.011625  26.126  0.47188   \n",
      "\n",
      "       DFA      PPE  \n",
      "0  0.54842  0.16006  \n",
      "1  0.56477  0.10810  \n",
      "2  0.54405  0.21014  \n",
      "3  0.57794  0.33277  \n",
      "4  0.56122  0.19361  \n",
      "\n",
      "[5 rows x 22 columns]\n"
     ]
    },
    {
     "data": {
      "text/plain": [
       "subject#           int64\n",
       "age                int64\n",
       "sex                int64\n",
       "test_time        float64\n",
       "motor_UPDRS      float64\n",
       "total_UPDRS      float64\n",
       "Jitter(%)        float64\n",
       "Jitter(Abs)      float64\n",
       "Jitter:RAP       float64\n",
       "Jitter:PPQ5      float64\n",
       "Jitter:DDP       float64\n",
       "Shimmer          float64\n",
       "Shimmer(dB)      float64\n",
       "Shimmer:APQ3     float64\n",
       "Shimmer:APQ5     float64\n",
       "Shimmer:APQ11    float64\n",
       "Shimmer:DDA      float64\n",
       "NHR              float64\n",
       "HNR              float64\n",
       "RPDE             float64\n",
       "DFA              float64\n",
       "PPE              float64\n",
       "dtype: object"
      ]
     },
     "execution_count": 3,
     "metadata": {},
     "output_type": "execute_result"
    }
   ],
   "source": [
    "parkinsons_df = pd.read_csv(filename)\n",
    "print(parkinsons_df.head())\n",
    "parkinsons_df.dtypes"
   ]
  },
  {
   "cell_type": "code",
   "execution_count": 4,
   "metadata": {},
   "outputs": [
    {
     "data": {
      "text/plain": [
       "Index(['subject#', 'age', 'sex', 'test_time', 'motor_UPDRS', 'total_UPDRS',\n",
       "       'Jitter(%)', 'Jitter(Abs)', 'Jitter:RAP', 'Jitter:PPQ5', 'Jitter:DDP',\n",
       "       'Shimmer', 'Shimmer(dB)', 'Shimmer:APQ3', 'Shimmer:APQ5',\n",
       "       'Shimmer:APQ11', 'Shimmer:DDA', 'NHR', 'HNR', 'RPDE', 'DFA', 'PPE'],\n",
       "      dtype='object')"
      ]
     },
     "execution_count": 4,
     "metadata": {},
     "output_type": "execute_result"
    }
   ],
   "source": [
    "parkinsons_df.columns"
   ]
  },
  {
   "cell_type": "code",
   "execution_count": 5,
   "metadata": {},
   "outputs": [
    {
     "name": "stdout",
     "output_type": "stream",
     "text": [
      "DataFrame one-hot-expanded shape: (5875, 22)\n"
     ]
    },
    {
     "name": "stderr",
     "output_type": "stream",
     "text": [
      "/Users/e.kubicek/opt/anaconda3/lib/python3.7/site-packages/ipykernel_launcher.py:14: FutureWarning: Method .as_matrix will be removed in a future version. Use .values instead.\n",
      "  \n"
     ]
    }
   ],
   "source": [
    "# Define the target and features:\n",
    "target_label = 'total_UPDRS'\n",
    "non_features = ['subject#', 'age', 'sex', 'test_time', 'motor_UPDRS']\n",
    "feature_labels = [x for x in parkinsons_df.columns if x not in [target_label] + non_features]\n",
    "\n",
    "# Filter out non-features and non-targets\n",
    "#parkinsons_df = parkinsons_df.drop(non_features, axis=1)\n",
    "\n",
    "# One-hot encode inputs\n",
    "parkinsons_expanded = pd.get_dummies(parkinsons_df, drop_first=True)\n",
    "print('DataFrame one-hot-expanded shape: {}'.format(parkinsons_expanded.shape))\n",
    "# Get target and original x-matrix\n",
    "y_dependent = parkinsons_df[target_label]\n",
    "x_features = parkinsons_df.as_matrix(columns=feature_labels)\n"
   ]
  },
  {
   "cell_type": "code",
   "execution_count": 6,
   "metadata": {},
   "outputs": [],
   "source": [
    "# Scale function\n",
    "def scale(col):\n",
    "    mean_col = np.mean(col)\n",
    "    sd_col = np.std(col)\n",
    "    std = (col - mean_col) / sd_col\n",
    "    return std"
   ]
  },
  {
   "cell_type": "code",
   "execution_count": 7,
   "metadata": {},
   "outputs": [],
   "source": [
    "# Scale all columns first\n",
    "\n",
    "# Create x-scaled (look into the function np.apply_along_axis to apply 'scale' function\n",
    "#    to each column).\n",
    "x_features_scaled = np.apply_along_axis(scale, 1, x_features)\n",
    "\n",
    "# Create a scaled y-target.\n",
    "y_dependent_scaled = scale(y_dependent)\n"
   ]
  },
  {
   "cell_type": "code",
   "execution_count": 8,
   "metadata": {},
   "outputs": [
    {
     "name": "stdout",
     "output_type": "stream",
     "text": [
      "        pc1       pc2       pc3       pc4       pc5       pc6       pc7  \\\n",
      "0 -0.045088  0.021846 -0.011965  0.002224 -0.003324 -0.000952 -0.001371   \n",
      "1 -0.064457  0.036847 -0.017445 -0.003462 -0.006028 -0.001887  0.000433   \n",
      "2 -0.052680  0.020125 -0.004610  0.001911 -0.014712 -0.000134 -0.000101   \n",
      "3 -0.033055  0.017032 -0.013254  0.013447 -0.025724  0.002620 -0.001050   \n",
      "4 -0.060086  0.027857 -0.010304  0.000267 -0.014814  0.000494  0.000529   \n",
      "\n",
      "        pc8       pc9      pc10      pc11      pc12      pc13          pc14  \\\n",
      "0  0.000894  0.000743 -0.000064  0.000037 -0.000069 -0.000018 -9.254165e-08   \n",
      "1  0.000536  0.000411  0.000058  0.000113  0.000058  0.000017 -8.425380e-08   \n",
      "2  0.000922 -0.000104  0.000088 -0.000167 -0.000078  0.000031  1.518409e-07   \n",
      "3  0.001790 -0.001052 -0.000038 -0.001359 -0.000215 -0.000030  1.039336e-06   \n",
      "4  0.000657 -0.000013  0.000212 -0.000077 -0.000039  0.000048  2.201413e-07   \n",
      "\n",
      "           pc15          pc16  total_UPDRS  \n",
      "0 -4.101552e-07  1.480556e-15     0.502745  \n",
      "1  3.734431e-07  2.175479e-15     0.549103  \n",
      "2 -3.843817e-07  2.306288e-15     0.595367  \n",
      "3 -3.562540e-07  2.302477e-15     0.634716  \n",
      "4  2.117552e-08  2.434191e-15     0.687522  \n",
      "(5875, 17)\n"
     ]
    }
   ],
   "source": [
    "# PCR!!\n",
    "pca = PCA(n_components = 16)\n",
    "pca_result = pca.fit_transform(x_features_scaled)\n",
    "\n",
    "# Establish column names\n",
    "column_names = ['pc' + str(ix+1) for ix in range(x_features_scaled.shape[1])]\n",
    "pca_df = pd.DataFrame(data = pca_result, columns = column_names)\n",
    "pca_df[target_label] = y_dependent_scaled\n",
    "print(pca_df.head())\n",
    "print(pca_df.shape)"
   ]
  },
  {
   "cell_type": "code",
   "execution_count": 9,
   "metadata": {},
   "outputs": [
    {
     "name": "stdout",
     "output_type": "stream",
     "text": [
      "[3.47834662e-02 1.20302807e-03 6.70121366e-04 2.72446869e-04\n",
      " 1.97675170e-04 8.11822128e-05 1.68296588e-05 1.51410636e-05\n",
      " 4.70752702e-06 1.80571521e-06 7.76025353e-07 1.71546249e-07\n",
      " 5.86072793e-08 1.51846603e-11 3.30694608e-13 5.04738438e-30]\n"
     ]
    },
    {
     "data": {
      "image/png": "[encoded data removed]",
      "text/plain": [
       "<Figure size 432x288 with 1 Axes>"
      ]
     },
     "metadata": {
      "needs_background": "light"
     },
     "output_type": "display_data"
    }
   ],
   "source": [
    "# Plot the explained variance for all principal components.\n",
    "# Note: If the first value is too large, it may dwarf how the rest look.\n",
    "# You may consider plotting starting with the 2nd value (python index at 1).\n",
    "\n",
    "plt.plot(pca.explained_variance_[1:])\n",
    "plt.title('Explained variance by Principal Component Num')\n",
    "plt.xlabel('Principal Component')\n",
    "plt.ylabel('Explained Variance')\n",
    "\n",
    "print(pca.explained_variance_)\n"
   ]
  },
  {
   "cell_type": "code",
   "execution_count": 10,
   "metadata": {},
   "outputs": [
    {
     "name": "stdout",
     "output_type": "stream",
     "text": [
      "                            OLS Regression Results                            \n",
      "==============================================================================\n",
      "Dep. Variable:            total_UPDRS   R-squared:                       0.035\n",
      "Model:                            OLS   Adj. R-squared:                  0.034\n",
      "Method:                 Least Squares   F-statistic:                     42.50\n",
      "Date:                Fri, 08 Nov 2019   Prob (F-statistic):           3.73e-43\n",
      "Time:                        07:32:23   Log-Likelihood:                -8231.8\n",
      "No. Observations:                5875   AIC:                         1.648e+04\n",
      "Df Residuals:                    5869   BIC:                         1.652e+04\n",
      "Df Model:                           5                                         \n",
      "Covariance Type:            nonrobust                                         \n",
      "==============================================================================\n",
      "                 coef    std err          t      P>|t|      [0.025      0.975]\n",
      "------------------------------------------------------------------------------\n",
      "Intercept   -4.38e-15      0.013  -3.42e-13      1.000      -0.025       0.025\n",
      "pc1            0.2389      0.069      3.474      0.001       0.104       0.374\n",
      "pc2           -2.8161      0.370     -7.616      0.000      -3.541      -2.091\n",
      "pc3            0.7726      0.495      1.560      0.119      -0.199       1.744\n",
      "pc4           -3.2875      0.777     -4.231      0.000      -4.811      -1.764\n",
      "pc5          -10.0781      0.912    -11.049      0.000     -11.866      -8.290\n",
      "==============================================================================\n",
      "Omnibus:                      162.797   Durbin-Watson:                   0.081\n",
      "Prob(Omnibus):                  0.000   Jarque-Bera (JB):              172.456\n",
      "Skew:                           0.408   Prob(JB):                     3.56e-38\n",
      "Kurtosis:                       2.803   Cond. No.                         71.1\n",
      "==============================================================================\n",
      "\n",
      "Warnings:\n",
      "[1] Standard Errors assume that the covariance matrix of the errors is correctly specified.\n"
     ]
    },
    {
     "data": {
      "text/plain": [
       "Text(0.5, 1.0, 'Residual Histogram')"
      ]
     },
     "execution_count": 10,
     "metadata": {},
     "output_type": "execute_result"
    },
    {
     "data": {
      "image/png": "[encoded data removed]",
      "text/plain": [
       "<Figure size 432x288 with 1 Axes>"
      ]
     },
     "metadata": {
      "needs_background": "light"
     },
     "output_type": "display_data"
    }
   ],
   "source": [
    "# Perform linear regression with the first N columns.\n",
    "n = 5\n",
    "formula_start = target_label + ' ~ '\n",
    "formula_terms = ['pc' + str(x+1) for x in range(n)]\n",
    "formula_end = ' + '.join(formula_terms)\n",
    "formula_final = formula_start + formula_end\n",
    "\n",
    "pcr_model = sm.ols(formula = formula_final, data=pca_df)\n",
    "\n",
    "results = pcr_model.fit()\n",
    "\n",
    "# Get most of the linear regression statistics we are interested in:\n",
    "print(results.summary())\n",
    "\n",
    "# Plot a histogram of the residuals\n",
    "sns.distplot(results.resid, hist=True)\n",
    "plt.xlabel('Residual')\n",
    "plt.ylabel('Frequency')\n",
    "plt.title('Residual Histogram')"
   ]
  },
  {
   "cell_type": "markdown",
   "metadata": {},
   "source": [
    "## Summary"
   ]
  },
  {
   "cell_type": "markdown",
   "metadata": {
    "collapsed": true
   },
   "source": [
    "We began this analysis with 22 features - wow! We got rid of the one-hot encoded categorical variables for our PCA, as we wanted to scale those as features separately. We began with 16 and ended up with 5. When looking at the graph for the explained variances, we can see that around component 5 is when the variances are significantly less explained by the components. This makes sense, as the first few will likley have the majority of explained variances as the functions are created. Here, we can see that pc3 is not needed for a significant fit. We can also see this pattern in the explained variance for each component, where the components are overall explaining less and less variance as they get closer to the end of the list. For our adjusted r-squared we see that 3.4% of the dependent variable (total_UPDRS) is explained by our principal components. This means that overall, the data that was collected related to parkinsons patients does not help much in predicting total_UPDRS."
   ]
  },
  {
   "cell_type": "code",
   "execution_count": null,
   "metadata": {},
   "outputs": [],
   "source": []
  }
 ],
 "metadata": {
  "kernelspec": {
   "display_name": "Python 3",
   "language": "python",
   "name": "python3"
  },
  "language_info": {
   "codemirror_mode": {
    "name": "ipython",
    "version": 3
   },
   "file_extension": ".py",
   "mimetype": "text/x-python",
   "name": "python",
   "nbconvert_exporter": "python",
   "pygments_lexer": "ipython3",
   "version": "3.7.4"
  }
 },
 "nbformat": 4,
 "nbformat_minor": 2
}
