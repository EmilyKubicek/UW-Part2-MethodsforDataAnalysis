{
 "cells": [
  {
   "cell_type": "markdown",
   "metadata": {},
   "source": [
    "# Milestone 2 - Hypothesis Simulation\n",
    "## Author: Emily McAfee\n",
    "### Instructions\n",
    "For Milestone 2 you should:\n",
    "\n",
    "- explore the dataset by charts and summary statistics\n",
    "- identify a likely distribution for several of the features\n",
    "- computer basic summary statistics by both classical bootstrap, and Bayesian methods\n",
    "- leverage confidence intervals in performing hypothesis tests to determin is the differences in pairs and multiple populations are significant"
   ]
  },
  {
   "cell_type": "markdown",
   "metadata": {},
   "source": [
    "1. histograms/plots\n",
    "2. likely distribution price/whatever/whatever\n",
    "3. summary statistics by classical, bootstrap, and bayesian models\n",
    "4. confidence intervals"
   ]
  },
  {
   "cell_type": "markdown",
   "metadata": {},
   "source": [
    "## Explore housing dataset by charts and summary statistics"
   ]
  },
  {
   "cell_type": "code",
   "execution_count": 1,
   "metadata": {},
   "outputs": [],
   "source": [
    "# Load packages\n",
    "import pandas as pd\n",
    "import numpy as np\n",
    "import matplotlib.pyplot as plt\n",
    "import seaborn as sns\n",
    "import scipy.stats\n",
    "from scipy import stats\n",
    "import warnings\n",
    "warnings.filterwarnings\n",
    "('ignore')\n",
    "import scipy.stats as ss\n",
    "import collections\n"
   ]
  },
  {
   "cell_type": "code",
   "execution_count": 2,
   "metadata": {},
   "outputs": [],
   "source": [
    "# Load data\n",
    "filename = \"https://drive.google.com/uc?export=download&id=1TqcnKvPJnuuEMVZYpx2H-hOf5Kaw_LUu\"\n",
    "\n",
    "# Read .csv file in with pandas\n",
    "housedata = pd.read_csv(filename, header = 0)"
   ]
  },
  {
   "cell_type": "code",
   "execution_count": 3,
   "metadata": {},
   "outputs": [
    {
     "name": "stdout",
     "output_type": "stream",
     "text": [
      "id                 int64\n",
      "date              object\n",
      "price            float64\n",
      "bedrooms           int64\n",
      "bathrooms        float64\n",
      "sqft_living        int64\n",
      "sqft_lot           int64\n",
      "floors           float64\n",
      "waterfront         int64\n",
      "view               int64\n",
      "condition          int64\n",
      "grade              int64\n",
      "sqft_above         int64\n",
      "sqft_basement      int64\n",
      "yr_built           int64\n",
      "yr_renovated       int64\n",
      "zipcode            int64\n",
      "lat              float64\n",
      "long             float64\n",
      "sqft_living15      int64\n",
      "sqft_lot15         int64\n",
      "dtype: object\n",
      "0    3\n",
      "1    3\n",
      "2    2\n",
      "3    4\n",
      "4    3\n",
      "Name: bedrooms, dtype: int64\n"
     ]
    },
    {
     "data": {
      "text/plain": [
       "0    20141013T000000\n",
       "1    20141209T000000\n",
       "2    20150225T000000\n",
       "3    20141209T000000\n",
       "4    20150218T000000\n",
       "Name: date, dtype: object"
      ]
     },
     "execution_count": 3,
     "metadata": {},
     "output_type": "execute_result"
    }
   ],
   "source": [
    "# Check data\n",
    "print(housedata.dtypes)\n",
    "print(housedata.loc[:,'bedrooms'].head())\n",
    "housedata.loc[:, 'id'].head()\n",
    "housedata.loc[:,'date'].head()"
   ]
  },
  {
   "cell_type": "code",
   "execution_count": 4,
   "metadata": {},
   "outputs": [
    {
     "data": {
      "text/html": [
       "<div>\n",
       "<style scoped>\n",
       "    .dataframe tbody tr th:only-of-type {\n",
       "        vertical-align: middle;\n",
       "    }\n",
       "\n",
       "    .dataframe tbody tr th {\n",
       "        vertical-align: top;\n",
       "    }\n",
       "\n",
       "    .dataframe thead th {\n",
       "        text-align: right;\n",
       "    }\n",
       "</style>\n",
       "<table border=\"1\" class=\"dataframe\">\n",
       "  <thead>\n",
       "    <tr style=\"text-align: right;\">\n",
       "      <th></th>\n",
       "      <th>id</th>\n",
       "      <th>price</th>\n",
       "      <th>bedrooms</th>\n",
       "      <th>bathrooms</th>\n",
       "      <th>sqft_living</th>\n",
       "      <th>sqft_lot</th>\n",
       "      <th>floors</th>\n",
       "      <th>waterfront</th>\n",
       "      <th>view</th>\n",
       "      <th>condition</th>\n",
       "      <th>grade</th>\n",
       "      <th>sqft_above</th>\n",
       "      <th>sqft_basement</th>\n",
       "      <th>yr_built</th>\n",
       "      <th>yr_renovated</th>\n",
       "      <th>zipcode</th>\n",
       "      <th>lat</th>\n",
       "      <th>long</th>\n",
       "      <th>sqft_living15</th>\n",
       "      <th>sqft_lot15</th>\n",
       "    </tr>\n",
       "  </thead>\n",
       "  <tbody>\n",
       "    <tr>\n",
       "      <td>count</td>\n",
       "      <td>2.161300e+04</td>\n",
       "      <td>2.161300e+04</td>\n",
       "      <td>21613.000000</td>\n",
       "      <td>21613.000000</td>\n",
       "      <td>21613.000000</td>\n",
       "      <td>2.161300e+04</td>\n",
       "      <td>21613.000000</td>\n",
       "      <td>21613.000000</td>\n",
       "      <td>21613.000000</td>\n",
       "      <td>21613.000000</td>\n",
       "      <td>21613.000000</td>\n",
       "      <td>21613.000000</td>\n",
       "      <td>21613.000000</td>\n",
       "      <td>21613.000000</td>\n",
       "      <td>21613.000000</td>\n",
       "      <td>21613.000000</td>\n",
       "      <td>21613.000000</td>\n",
       "      <td>21613.000000</td>\n",
       "      <td>21613.000000</td>\n",
       "      <td>21613.000000</td>\n",
       "    </tr>\n",
       "    <tr>\n",
       "      <td>mean</td>\n",
       "      <td>4.580302e+09</td>\n",
       "      <td>5.400881e+05</td>\n",
       "      <td>3.370842</td>\n",
       "      <td>2.114757</td>\n",
       "      <td>2079.899736</td>\n",
       "      <td>1.510697e+04</td>\n",
       "      <td>1.494309</td>\n",
       "      <td>0.007542</td>\n",
       "      <td>0.234303</td>\n",
       "      <td>3.409430</td>\n",
       "      <td>7.656873</td>\n",
       "      <td>1788.390691</td>\n",
       "      <td>291.509045</td>\n",
       "      <td>1971.005136</td>\n",
       "      <td>84.402258</td>\n",
       "      <td>98077.939805</td>\n",
       "      <td>47.560053</td>\n",
       "      <td>-122.213896</td>\n",
       "      <td>1986.552492</td>\n",
       "      <td>12768.455652</td>\n",
       "    </tr>\n",
       "    <tr>\n",
       "      <td>std</td>\n",
       "      <td>2.876566e+09</td>\n",
       "      <td>3.671272e+05</td>\n",
       "      <td>0.930062</td>\n",
       "      <td>0.770163</td>\n",
       "      <td>918.440897</td>\n",
       "      <td>4.142051e+04</td>\n",
       "      <td>0.539989</td>\n",
       "      <td>0.086517</td>\n",
       "      <td>0.766318</td>\n",
       "      <td>0.650743</td>\n",
       "      <td>1.175459</td>\n",
       "      <td>828.090978</td>\n",
       "      <td>442.575043</td>\n",
       "      <td>29.373411</td>\n",
       "      <td>401.679240</td>\n",
       "      <td>53.505026</td>\n",
       "      <td>0.138564</td>\n",
       "      <td>0.140828</td>\n",
       "      <td>685.391304</td>\n",
       "      <td>27304.179631</td>\n",
       "    </tr>\n",
       "    <tr>\n",
       "      <td>min</td>\n",
       "      <td>1.000102e+06</td>\n",
       "      <td>7.500000e+04</td>\n",
       "      <td>0.000000</td>\n",
       "      <td>0.000000</td>\n",
       "      <td>290.000000</td>\n",
       "      <td>5.200000e+02</td>\n",
       "      <td>1.000000</td>\n",
       "      <td>0.000000</td>\n",
       "      <td>0.000000</td>\n",
       "      <td>1.000000</td>\n",
       "      <td>1.000000</td>\n",
       "      <td>290.000000</td>\n",
       "      <td>0.000000</td>\n",
       "      <td>1900.000000</td>\n",
       "      <td>0.000000</td>\n",
       "      <td>98001.000000</td>\n",
       "      <td>47.155900</td>\n",
       "      <td>-122.519000</td>\n",
       "      <td>399.000000</td>\n",
       "      <td>651.000000</td>\n",
       "    </tr>\n",
       "    <tr>\n",
       "      <td>25%</td>\n",
       "      <td>2.123049e+09</td>\n",
       "      <td>3.219500e+05</td>\n",
       "      <td>3.000000</td>\n",
       "      <td>1.750000</td>\n",
       "      <td>1427.000000</td>\n",
       "      <td>5.040000e+03</td>\n",
       "      <td>1.000000</td>\n",
       "      <td>0.000000</td>\n",
       "      <td>0.000000</td>\n",
       "      <td>3.000000</td>\n",
       "      <td>7.000000</td>\n",
       "      <td>1190.000000</td>\n",
       "      <td>0.000000</td>\n",
       "      <td>1951.000000</td>\n",
       "      <td>0.000000</td>\n",
       "      <td>98033.000000</td>\n",
       "      <td>47.471000</td>\n",
       "      <td>-122.328000</td>\n",
       "      <td>1490.000000</td>\n",
       "      <td>5100.000000</td>\n",
       "    </tr>\n",
       "    <tr>\n",
       "      <td>50%</td>\n",
       "      <td>3.904930e+09</td>\n",
       "      <td>4.500000e+05</td>\n",
       "      <td>3.000000</td>\n",
       "      <td>2.250000</td>\n",
       "      <td>1910.000000</td>\n",
       "      <td>7.618000e+03</td>\n",
       "      <td>1.500000</td>\n",
       "      <td>0.000000</td>\n",
       "      <td>0.000000</td>\n",
       "      <td>3.000000</td>\n",
       "      <td>7.000000</td>\n",
       "      <td>1560.000000</td>\n",
       "      <td>0.000000</td>\n",
       "      <td>1975.000000</td>\n",
       "      <td>0.000000</td>\n",
       "      <td>98065.000000</td>\n",
       "      <td>47.571800</td>\n",
       "      <td>-122.230000</td>\n",
       "      <td>1840.000000</td>\n",
       "      <td>7620.000000</td>\n",
       "    </tr>\n",
       "    <tr>\n",
       "      <td>75%</td>\n",
       "      <td>7.308900e+09</td>\n",
       "      <td>6.450000e+05</td>\n",
       "      <td>4.000000</td>\n",
       "      <td>2.500000</td>\n",
       "      <td>2550.000000</td>\n",
       "      <td>1.068800e+04</td>\n",
       "      <td>2.000000</td>\n",
       "      <td>0.000000</td>\n",
       "      <td>0.000000</td>\n",
       "      <td>4.000000</td>\n",
       "      <td>8.000000</td>\n",
       "      <td>2210.000000</td>\n",
       "      <td>560.000000</td>\n",
       "      <td>1997.000000</td>\n",
       "      <td>0.000000</td>\n",
       "      <td>98118.000000</td>\n",
       "      <td>47.678000</td>\n",
       "      <td>-122.125000</td>\n",
       "      <td>2360.000000</td>\n",
       "      <td>10083.000000</td>\n",
       "    </tr>\n",
       "    <tr>\n",
       "      <td>max</td>\n",
       "      <td>9.900000e+09</td>\n",
       "      <td>7.700000e+06</td>\n",
       "      <td>33.000000</td>\n",
       "      <td>8.000000</td>\n",
       "      <td>13540.000000</td>\n",
       "      <td>1.651359e+06</td>\n",
       "      <td>3.500000</td>\n",
       "      <td>1.000000</td>\n",
       "      <td>4.000000</td>\n",
       "      <td>5.000000</td>\n",
       "      <td>13.000000</td>\n",
       "      <td>9410.000000</td>\n",
       "      <td>4820.000000</td>\n",
       "      <td>2015.000000</td>\n",
       "      <td>2015.000000</td>\n",
       "      <td>98199.000000</td>\n",
       "      <td>47.777600</td>\n",
       "      <td>-121.315000</td>\n",
       "      <td>6210.000000</td>\n",
       "      <td>871200.000000</td>\n",
       "    </tr>\n",
       "  </tbody>\n",
       "</table>\n",
       "</div>"
      ],
      "text/plain": [
       "                 id         price      bedrooms     bathrooms   sqft_living  \\\n",
       "count  2.161300e+04  2.161300e+04  21613.000000  21613.000000  21613.000000   \n",
       "mean   4.580302e+09  5.400881e+05      3.370842      2.114757   2079.899736   \n",
       "std    2.876566e+09  3.671272e+05      0.930062      0.770163    918.440897   \n",
       "min    1.000102e+06  7.500000e+04      0.000000      0.000000    290.000000   \n",
       "25%    2.123049e+09  3.219500e+05      3.000000      1.750000   1427.000000   \n",
       "50%    3.904930e+09  4.500000e+05      3.000000      2.250000   1910.000000   \n",
       "75%    7.308900e+09  6.450000e+05      4.000000      2.500000   2550.000000   \n",
       "max    9.900000e+09  7.700000e+06     33.000000      8.000000  13540.000000   \n",
       "\n",
       "           sqft_lot        floors    waterfront          view     condition  \\\n",
       "count  2.161300e+04  21613.000000  21613.000000  21613.000000  21613.000000   \n",
       "mean   1.510697e+04      1.494309      0.007542      0.234303      3.409430   \n",
       "std    4.142051e+04      0.539989      0.086517      0.766318      0.650743   \n",
       "min    5.200000e+02      1.000000      0.000000      0.000000      1.000000   \n",
       "25%    5.040000e+03      1.000000      0.000000      0.000000      3.000000   \n",
       "50%    7.618000e+03      1.500000      0.000000      0.000000      3.000000   \n",
       "75%    1.068800e+04      2.000000      0.000000      0.000000      4.000000   \n",
       "max    1.651359e+06      3.500000      1.000000      4.000000      5.000000   \n",
       "\n",
       "              grade    sqft_above  sqft_basement      yr_built  yr_renovated  \\\n",
       "count  21613.000000  21613.000000   21613.000000  21613.000000  21613.000000   \n",
       "mean       7.656873   1788.390691     291.509045   1971.005136     84.402258   \n",
       "std        1.175459    828.090978     442.575043     29.373411    401.679240   \n",
       "min        1.000000    290.000000       0.000000   1900.000000      0.000000   \n",
       "25%        7.000000   1190.000000       0.000000   1951.000000      0.000000   \n",
       "50%        7.000000   1560.000000       0.000000   1975.000000      0.000000   \n",
       "75%        8.000000   2210.000000     560.000000   1997.000000      0.000000   \n",
       "max       13.000000   9410.000000    4820.000000   2015.000000   2015.000000   \n",
       "\n",
       "            zipcode           lat          long  sqft_living15     sqft_lot15  \n",
       "count  21613.000000  21613.000000  21613.000000   21613.000000   21613.000000  \n",
       "mean   98077.939805     47.560053   -122.213896    1986.552492   12768.455652  \n",
       "std       53.505026      0.138564      0.140828     685.391304   27304.179631  \n",
       "min    98001.000000     47.155900   -122.519000     399.000000     651.000000  \n",
       "25%    98033.000000     47.471000   -122.328000    1490.000000    5100.000000  \n",
       "50%    98065.000000     47.571800   -122.230000    1840.000000    7620.000000  \n",
       "75%    98118.000000     47.678000   -122.125000    2360.000000   10083.000000  \n",
       "max    98199.000000     47.777600   -121.315000    6210.000000  871200.000000  "
      ]
     },
     "execution_count": 4,
     "metadata": {},
     "output_type": "execute_result"
    }
   ],
   "source": [
    "# Summary statistics\n",
    "housedata.describe()"
   ]
  },
  {
   "cell_type": "markdown",
   "metadata": {},
   "source": [
    "#### What can we learn from these summary statistics?\n",
    "First, let's start with *price* as that is very important to the seller. From the above summary statistics we can see the average price of a homein King County, WA is __$540,088.10__. On average, these house have __3 bedrooms__, __2 bathrooms__, and are anywhere from __1 to 2 floors__. This is extremely helpful to the developer, as it let's them know genrally what customers would be favoring in a home and can use this information for basic proposals and mock ups.\n",
    "\n",
    "Just looking at the interquartile ranges (IQR) there don't appear to be any large descrpencies between them, but some exploratory data anlysis (EDA) will assist in having those patterns come through."
   ]
  },
  {
   "cell_type": "code",
   "execution_count": 5,
   "metadata": {},
   "outputs": [
    {
     "name": "stdout",
     "output_type": "stream",
     "text": [
      "         zipcounts\n",
      "zipcode           \n",
      "98001          362\n",
      "98002          199\n",
      "98003          280\n",
      "98004          317\n",
      "98005          168\n",
      "...            ...\n",
      "98177          255\n",
      "98178          262\n",
      "98188          136\n",
      "98198          280\n",
      "98199          317\n",
      "\n",
      "[70 rows x 1 columns]\n"
     ]
    },
    {
     "data": {
      "text/html": [
       "<div>\n",
       "<style scoped>\n",
       "    .dataframe tbody tr th:only-of-type {\n",
       "        vertical-align: middle;\n",
       "    }\n",
       "\n",
       "    .dataframe tbody tr th {\n",
       "        vertical-align: top;\n",
       "    }\n",
       "\n",
       "    .dataframe thead th {\n",
       "        text-align: right;\n",
       "    }\n",
       "</style>\n",
       "<table border=\"1\" class=\"dataframe\">\n",
       "  <thead>\n",
       "    <tr style=\"text-align: right;\">\n",
       "      <th></th>\n",
       "      <th>zipcounts</th>\n",
       "    </tr>\n",
       "    <tr>\n",
       "      <th>zipcode</th>\n",
       "      <th></th>\n",
       "    </tr>\n",
       "  </thead>\n",
       "  <tbody>\n",
       "    <tr>\n",
       "      <td>98103</td>\n",
       "      <td>602</td>\n",
       "    </tr>\n",
       "    <tr>\n",
       "      <td>98038</td>\n",
       "      <td>590</td>\n",
       "    </tr>\n",
       "    <tr>\n",
       "      <td>98115</td>\n",
       "      <td>583</td>\n",
       "    </tr>\n",
       "    <tr>\n",
       "      <td>98052</td>\n",
       "      <td>574</td>\n",
       "    </tr>\n",
       "    <tr>\n",
       "      <td>98117</td>\n",
       "      <td>553</td>\n",
       "    </tr>\n",
       "    <tr>\n",
       "      <td>98042</td>\n",
       "      <td>548</td>\n",
       "    </tr>\n",
       "    <tr>\n",
       "      <td>98034</td>\n",
       "      <td>545</td>\n",
       "    </tr>\n",
       "    <tr>\n",
       "      <td>98118</td>\n",
       "      <td>508</td>\n",
       "    </tr>\n",
       "    <tr>\n",
       "      <td>98023</td>\n",
       "      <td>499</td>\n",
       "    </tr>\n",
       "    <tr>\n",
       "      <td>98006</td>\n",
       "      <td>498</td>\n",
       "    </tr>\n",
       "  </tbody>\n",
       "</table>\n",
       "</div>"
      ],
      "text/plain": [
       "         zipcounts\n",
       "zipcode           \n",
       "98103          602\n",
       "98038          590\n",
       "98115          583\n",
       "98052          574\n",
       "98117          553\n",
       "98042          548\n",
       "98034          545\n",
       "98118          508\n",
       "98023          499\n",
       "98006          498"
      ]
     },
     "execution_count": 5,
     "metadata": {},
     "output_type": "execute_result"
    }
   ],
   "source": [
    "# Create frequency table of prices in zip codes\n",
    "# Check data\n",
    "sorted(set(housedata.loc[:,'zipcode'].unique()))\n",
    "\n",
    "# Make column for counts\n",
    "housedata['zipcounts'] = 1\n",
    "\n",
    "# Show organized frequency table based on counts column\n",
    "print(housedata[['zipcounts', 'zipcode']].groupby(['zipcode']).agg('count'))\n",
    "\n",
    "# Show top ten\n",
    "topzip = housedata[['zipcounts', 'zipcode']].groupby(['zipcode']).agg('count')\n",
    "\n",
    "topzip.nlargest(10, 'zipcounts')\n"
   ]
  },
  {
   "cell_type": "markdown",
   "metadata": {},
   "source": [
    "#### What can we learn from the frequency table?\n",
    "Above are two frequency tables, one shows counts for all homes in their respective zip codes. The second, smaller, frequency table shows the top ten zip codes with the largest amount of houses. This could generate possible business insight by showing developers where there are already flourishing commuties. The opposite could also be done with frequency tables, showing the zipcodes with the least amount of houses."
   ]
  },
  {
   "cell_type": "code",
   "execution_count": 6,
   "metadata": {},
   "outputs": [
    {
     "data": {
      "text/plain": [
       "Text(0, 0.5, 'Square feet')"
      ]
     },
     "execution_count": 6,
     "metadata": {},
     "output_type": "execute_result"
    },
    {
     "data": {
      "image/png": "[encoded data removed]",
      "text/plain": [
       "<Figure size 432x432 with 2 Axes>"
      ]
     },
     "metadata": {
      "needs_background": "light"
     },
     "output_type": "display_data"
    }
   ],
   "source": [
    "# Create hexbin of year built versus square feet\n",
    "ax2 = plt.figure(figsize = (6, 6)).gca()\n",
    "housedata.plot.hexbin(x = 'yr_built', y = 'sqft_above', gridsize = 15, ax = ax2)\n",
    "\n",
    "ax2.set_title('Year built versus square feet')\n",
    "ax2.set_xlabel('Year Built')\n",
    "ax2.set_ylabel('Square feet')"
   ]
  },
  {
   "cell_type": "markdown",
   "metadata": {},
   "source": [
    "#### What can we learn from this hexbin plot?\n",
    "\n",
    "The most common home type are those that were built in the early 1960s and late 1970s with ~1500 square feet. Another general trend to make note of is that homes seem to be getting consistently bigger (i.e. more square footage) after the 1980s. It would be worth considering as a business insight if this type of home size growth is sustainable for the market."
   ]
  },
  {
   "cell_type": "code",
   "execution_count": 7,
   "metadata": {
    "scrolled": true
   },
   "outputs": [
    {
     "data": {
      "text/plain": [
       "Text(0, 0.5, 'price')"
      ]
     },
     "execution_count": 7,
     "metadata": {},
     "output_type": "execute_result"
    },
    {
     "data": {
      "image/png": "[encoded data removed]",
      "text/plain": [
       "<Figure size 432x432 with 1 Axes>"
      ]
     },
     "metadata": {
      "needs_background": "light"
     },
     "output_type": "display_data"
    }
   ],
   "source": [
    "# Create boxplot of price by bedrooms\n",
    "# bedrooms\n",
    "bxplt1 = plt.figure(figsize = (6, 6))\n",
    "\n",
    "# Define axis\n",
    "ax1 = bxplt1.gca()\n",
    "\n",
    "# Place data on the axis\n",
    "housedata.loc[:,['bedrooms', 'price']].boxplot(by = 'bedrooms', ax = ax1)\n",
    "ax1.set_title('Box plot of Price by Bedroom #')\n",
    "ax1.set_xlabel('bedrooms')\n",
    "ax1.set_ylabel('price')"
   ]
  },
  {
   "cell_type": "markdown",
   "metadata": {},
   "source": [
    "#### What can we learn from the boxplot?\n",
    "\n",
    "While the above boxplot informs us on price according to bedroom, it is also a good check of our summary statistics. At first glance the scale on the y axis seems a bit extreme (house prices at almost 8 million dollars - wow!), but if we go back to our summary statistics we can see that this is infact the case. However, as indicated by our IQRs for each bedroom number, most homes are under 2 million dollars. The home prices that have the most spread are the 5 and 6 bedroom homes. A possibly good business insight that can be drawn from this is that 5/6 bedrooms home prices can vary widely and it may encourage the investor to build these types of homes and be prepared if the market drops or increases, there is possibly more fleibility for selling price.\n",
    "\n",
    "In terms of our model, knowing the amount of spread is important to keep in mind because it may suggest that number of bedrooms is not always an indicator of price."
   ]
  },
  {
   "cell_type": "code",
   "execution_count": 8,
   "metadata": {},
   "outputs": [
    {
     "data": {
      "text/plain": [
       "Text(0.5, 0, 'House price')"
      ]
     },
     "execution_count": 8,
     "metadata": {},
     "output_type": "execute_result"
    },
    {
     "data": {
      "image/png": "[encoded data removed]",
      "text/plain": [
       "<Figure size 432x288 with 1 Axes>"
      ]
     },
     "metadata": {
      "needs_background": "light"
     },
     "output_type": "display_data"
    }
   ],
   "source": [
    "# Prices by frequency\n",
    "\n",
    "# Create boolean array of houses that are under 2 million (the typical)\n",
    "typicalprice = housedata.loc[:,'price'] < 2000000\n",
    "\n",
    "# Check data\n",
    "typicalprice.head()\n",
    "\n",
    "# Create df of only these houses\n",
    "typicalprice1 = housedata[typicalprice]\n",
    "typicalprice1.head()\n",
    "\n",
    "# Create histogram with new df\n",
    "typicalprice1.loc[:,'price'].plot.hist(bins = np.arange(0, 2000000,150000))\n",
    "plt.xticks(np.arange(0, 2000000, 150000), rotation = 90)\n",
    "plt.title('Histogram of house prices')\n",
    "plt.xlabel('House price')"
   ]
  },
  {
   "cell_type": "markdown",
   "metadata": {},
   "source": [
    "#### What can we learn from the histogram?\n",
    "\n",
    "Before creating the histogram, homes over 2 million dollars were removed. As seen in our boxplot, the majority of our houses are under this price. If we were to create a histogram with these higher end prices, the histogram would be very long and not yield very much helpful information. By removing those outliers we are able to clearly see that most homes are between 300,000 dollars and 450,000 dollars. It seems these home price may take the shape of a normal distribution. Let's do some tests to see if they are normally distributed."
   ]
  },
  {
   "cell_type": "markdown",
   "metadata": {},
   "source": [
    "## Identify a likely distribution for several of the housing features"
   ]
  },
  {
   "cell_type": "code",
   "execution_count": 9,
   "metadata": {},
   "outputs": [
    {
     "name": "stdout",
     "output_type": "stream",
     "text": [
      "NormaltestResult(statistic=19121.788941861127, pvalue=0.0)\n",
      "NormaltestResult(statistic=7483.159001932461, pvalue=0.0)\n"
     ]
    }
   ],
   "source": [
    "# Price\n",
    "print(stats.normaltest(housedata.price))\n",
    "\n",
    "# Price of more typical houses\n",
    "print(stats.normaltest(typicalprice1.price))"
   ]
  },
  {
   "cell_type": "markdown",
   "metadata": {},
   "source": [
    "#### What can we learn from this normality test?\n",
    "When initially doing a test for normality on the all houses in the dataset, we can see that there is no normality. This can possibly make sense, as we have those few outlier homes that cost a lot of money. As a next step, we condutced the test without those homes. Even with deleting outliers, our price featuredoes not appear to be normally distributed."
   ]
  },
  {
   "cell_type": "code",
   "execution_count": 10,
   "metadata": {},
   "outputs": [
    {
     "name": "stdout",
     "output_type": "stream",
     "text": [
      "NormaltestResult(statistic=3782.1057479274455, pvalue=0.0)\n",
      "AxesSubplot(0.125,0.125;0.775x0.755)\n"
     ]
    },
    {
     "data": {
      "image/png": "[encoded data removed]",
      "text/plain": [
       "<Figure size 432x288 with 1 Axes>"
      ]
     },
     "metadata": {
      "needs_background": "light"
     },
     "output_type": "display_data"
    },
    {
     "data": {
      "image/png": "[encoded data removed]",
      "text/plain": [
       "<Figure size 432x432 with 1 Axes>"
      ]
     },
     "metadata": {
      "needs_background": "light"
     },
     "output_type": "display_data"
    }
   ],
   "source": [
    "# Square foot living\n",
    "# Check data/normal test\n",
    "print(stats.normaltest(typicalprice1.loc[:,'sqft_living']))\n",
    "min(typicalprice1.loc[:,'sqft_living'])\n",
    "max(typicalprice1.loc[:,'sqft_living'])\n",
    "print(typicalprice1.loc[:,'sqft_living'].plot.hist(bins = np.arange(500, 10000,500)))\n",
    "\n",
    "# QQ plot\n",
    "# Normal test visualization\n",
    "def qq_plot(vec1):\n",
    "    \n",
    "    #define axis\n",
    "    plt.figure(figsize=(6, 6)).gca()\n",
    "    \n",
    "    #set up plot\n",
    "    ax1 = plt.subplot(221) ## setup the left subplot\n",
    "    \n",
    "    #plot\n",
    "    ss.probplot(vec1, plot = ax1)\n",
    "    \n",
    "# Generate qq plot of square foot living space data\n",
    "qq_plot(typicalprice1.loc[:,'sqft_living'])"
   ]
  },
  {
   "cell_type": "markdown",
   "metadata": {},
   "source": [
    "#### What can these normal tests/visualizations tell us about square foot living space?\n",
    "While the histogram appears to almost be normal, skewing to the right with most of the data on the left, the statistical test tells us that the data are not normally distributed. To visualize this we use a QQ plot, we see once again that the data are not on the line of normality. This information is helpful for possible real estate agents or investors because it implies that only houses around 2000 square feet are in this area, and that is more likely what buyers will expect to see and pay for (also notice we are only working with houses that are under two million, removing the outliers from these analyses). It would be interesting to see if the entirety of a location (i.e. the whole lot, not just living spaces) maintains a similar distribution."
   ]
  },
  {
   "cell_type": "code",
   "execution_count": 11,
   "metadata": {},
   "outputs": [
    {
     "name": "stdout",
     "output_type": "stream",
     "text": [
      "NormaltestResult(statistic=38625.53783847835, pvalue=0.0)\n",
      "AxesSubplot(0.125,0.125;0.775x0.755)\n"
     ]
    },
    {
     "data": {
      "image/png": "[encoded data removed]",
      "text/plain": [
       "<Figure size 432x288 with 1 Axes>"
      ]
     },
     "metadata": {
      "needs_background": "light"
     },
     "output_type": "display_data"
    },
    {
     "data": {
      "image/png": "[encoded data removed]",
      "text/plain": [
       "<Figure size 432x432 with 1 Axes>"
      ]
     },
     "metadata": {
      "needs_background": "light"
     },
     "output_type": "display_data"
    }
   ],
   "source": [
    "# square foot lot normality\n",
    "# Check data/normality test\n",
    "print(stats.normaltest(typicalprice1.loc[:,'sqft_lot']))\n",
    "min(typicalprice1.loc[:,'sqft_lot'])\n",
    "max(typicalprice1.loc[:,'sqft_lot'])\n",
    "print(typicalprice1.loc[:,'sqft_lot'].plot.hist(bins = np.arange(500, 60000,500)))\n",
    "\n",
    "# Generate qq plot of sqft lot data\n",
    "qq_plot(typicalprice1.loc[:,'sqft_lot'])"
   ]
  },
  {
   "cell_type": "markdown",
   "metadata": {},
   "source": [
    "#### What can these normality tests/visualizations tel us about lot size\n",
    "Wow! Some of these lots are huge. This is really valuable information. Stepping back a little bit, we can see that the average home is about 2000 square feet, while the average lot size is about 7000 sqaure feet. This means that people in this area tend to like huge backyards/lots attached to their homes. This is a very relevant insight for a real estate team or buyer, as it implies people in this area will expect to have land come with there home. Thus, if you are thinking of buying in the area and hope to resell, it is almost a must to have the home be on a lot of about 5000 square feet. Interestingly, the qq plot implies that the distribution of lots may have been normal, if not for those home with more than 20000 square feet lots."
   ]
  },
  {
   "cell_type": "markdown",
   "metadata": {},
   "source": [
    "## Compute basic summary statistics by both classical, bootstrap, and bayesian methods\n",
    "*see above for classical methods"
   ]
  },
  {
   "cell_type": "markdown",
   "metadata": {},
   "source": [
    "### Bootstrap"
   ]
  },
  {
   "cell_type": "code",
   "execution_count": 12,
   "metadata": {},
   "outputs": [
    {
     "name": "stdout",
     "output_type": "stream",
     "text": [
      "Bootstrapped means of price = (519070.377)\n",
      "Actual mean of price = (518936.581)\n"
     ]
    },
    {
     "data": {
      "image/png": "[encoded data removed]",
      "text/plain": [
       "<Figure size 432x288 with 1 Axes>"
      ]
     },
     "metadata": {
      "needs_background": "light"
     },
     "output_type": "display_data"
    }
   ],
   "source": [
    "## Bootstrap the means of the home prices\n",
    "pricecol = typicalprice1.price\n",
    "\n",
    "# Establish how many bootstrap samples will be using\n",
    "n_replicas = 1000\n",
    "\n",
    "# Bootstrap the means of price\n",
    "price_bootstrap_means = pd.Series([\n",
    "    pricecol.sample(frac = .5, replace = True).mean()\n",
    "    for i in range(n_replicas)\n",
    "])\n",
    "\n",
    "# Create function to plot bootstrap sample means\n",
    "def plot_hist(x, p = 5):\n",
    "    \n",
    "    # plot the distribution and mark the mean\n",
    "    plt.hist(x, alpha = .5)\n",
    "    plt.axvline(x.mean())\n",
    "    \n",
    "    # mark the 95% ci\n",
    "    plt.axvline(np.percentile(x, p/2.), color = 'red', linewidth = 3)\n",
    "    plt.axvline(np.percentile(x, 100 - p/2.), color = 'red', linewidth = 3)\n",
    "\n",
    "# Plot bootstrapped price means\n",
    "plot_hist(price_bootstrap_means)\n",
    "pbs_mean = price_bootstrap_means.mean()\n",
    "\n",
    "# Print out stats\n",
    "print('Bootstrapped means of price = (%.3f)' % (price_bootstrap_means.mean()))\n",
    "print('Actual mean of price = (%.3f)' % (pricecol.mean()))"
   ]
  },
  {
   "cell_type": "markdown",
   "metadata": {},
   "source": [
    "#### What can we learn from these bootstrapped means?\n",
    "Initially when creating this summary statistic I chose to sample the equivalent of the entirety of the sample (i.e. frac = 1). However, after looking at the histogram I realized this wasn't too informative. Instead, I decided to sample the equivalent of half of the homes prices (i.e. frac = .5). While the bootstrapped mean of the price is farther (only slightly) than it was for a larger number of samples, it's still prety close. This helps us inform on the housing data because it implies that if we want to grow out into another area of Washington, we can perform a bootstrap analysis on a more rescricted number of homes (maybe for budgetary reasons) and get an idea of what the typical price is."
   ]
  },
  {
   "cell_type": "markdown",
   "metadata": {},
   "source": [
    "### Bayesian"
   ]
  },
  {
   "cell_type": "code",
   "execution_count": 13,
   "metadata": {
    "scrolled": true
   },
   "outputs": [
    {
     "name": "stderr",
     "output_type": "stream",
     "text": [
      "/Users/e.kubicek/opt/anaconda3/lib/python3.7/site-packages/ipykernel_launcher.py:6: SettingWithCopyWarning: \n",
      "A value is trying to be set on a copy of a slice from a DataFrame.\n",
      "Try using .loc[row_indexer,col_indexer] = value instead\n",
      "\n",
      "See the caveats in the documentation: http://pandas.pydata.org/pandas-docs/stable/user_guide/indexing.html#returning-a-view-versus-a-copy\n",
      "  \n"
     ]
    },
    {
     "name": "stdout",
     "output_type": "stream",
     "text": [
      "Mean of all prices = 646849.9\n"
     ]
    },
    {
     "data": {
      "image/png": "[encoded data removed]",
      "text/plain": [
       "<Figure size 432x288 with 1 Axes>"
      ]
     },
     "metadata": {
      "needs_background": "light"
     },
     "output_type": "display_data"
    }
   ],
   "source": [
    "# Subsample housing data with 25 observations\n",
    "num_sample = 25\n",
    "\n",
    "# Create column with view information\n",
    "typicalprice2 = typicalprice1\n",
    "typicalprice2['isviews'] = np.where(typicalprice2.view > 0, 1, 0)\n",
    "\n",
    "\n",
    "# Create subsets\n",
    "view = typicalprice2[typicalprice2.loc[:, 'isviews'] == 1].sample(n = num_sample)\n",
    "noview = typicalprice2[typicalprice2.loc[:, 'isviews'] == 0].sample(n = num_sample)\n",
    "\n",
    "# Plot sample\n",
    "plt.title('Histograms of prices by views')\n",
    "view.price.hist(label = 'has view', bins = 10, alpha = .7)\n",
    "noview.price.hist(label = 'no view', bins = 10, alpha = .7)\n",
    "plt.xlabel('price')\n",
    "plt.xticks(rotation = 45)\n",
    "plt.legend()\n",
    "\n",
    "mean_price = np.concatenate([view.price, noview.price]).mean()\n",
    "print('Mean of all prices =', mean_price)"
   ]
  },
  {
   "cell_type": "code",
   "execution_count": 14,
   "metadata": {},
   "outputs": [
    {
     "name": "stdout",
     "output_type": "stream",
     "text": [
      "Mean = 813800.000, Standard Deviation = 383904.051\n"
     ]
    },
    {
     "data": {
      "text/plain": [
       "<matplotlib.legend.Legend at 0x1a1ede3090>"
      ]
     },
     "execution_count": 14,
     "metadata": {},
     "output_type": "execute_result"
    },
    {
     "data": {
      "image/png": "[encoded data removed]",
      "text/plain": [
       "<Figure size 432x288 with 1 Axes>"
      ]
     },
     "metadata": {
      "needs_background": "light"
     },
     "output_type": "display_data"
    }
   ],
   "source": [
    "# Estimate the posterior distribution of the mean\n",
    "N = 1000\n",
    "p = np.linspace(20000, 1000000, num = N)\n",
    "\n",
    "pp = ss.norm.pdf(p, loc = view.price.mean(), scale = 5000)\n",
    "pp = pp / pp.sum()\n",
    "\n",
    "def comp_like(p, x):\n",
    "    variance = np.std(x)**2\n",
    "    x_mean = np.asarray(x).mean()\n",
    "    print('Mean = %.3f, Standard Deviation = %.3f' % (x_mean, np.std(x)))\n",
    "    n = len (x)\n",
    "    l = np.exp(-n * np.square(x_mean - p) / (2 * variance))\n",
    "    return l/l.sum()\n",
    "\n",
    "# Make function to find posterior\n",
    "def posterior(prior, like):\n",
    "    \n",
    "    # Multiply the probabilities\n",
    "    post = prior * like\n",
    "    \n",
    "    # Normalize the distribution\n",
    "    return post/sum(post)\n",
    "\n",
    "like_view = comp_like(p, view.price)\n",
    "post_view = posterior(pp, like_view)\n",
    "\n",
    "# Plot results\n",
    "plt.plot(p, pp, label='prior')\n",
    "plt.plot(p, like_view, label='likelihood', alpha=.3, linewidth=10)\n",
    "plt.plot(p, post_view, label='posterior')\n",
    "plt.legend()"
   ]
  },
  {
   "cell_type": "code",
   "execution_count": 15,
   "metadata": {
    "scrolled": true
   },
   "outputs": [
    {
     "name": "stdout",
     "output_type": "stream",
     "text": [
      "Mean = 479899.800, Standard Deviation = 272541.857\n"
     ]
    },
    {
     "data": {
      "text/plain": [
       "<matplotlib.legend.Legend at 0x1a1db86610>"
      ]
     },
     "execution_count": 15,
     "metadata": {},
     "output_type": "execute_result"
    },
    {
     "data": {
      "image/png": "[encoded data removed]",
      "text/plain": [
       "<Figure size 432x288 with 1 Axes>"
      ]
     },
     "metadata": {
      "needs_background": "light"
     },
     "output_type": "display_data"
    }
   ],
   "source": [
    "# Do same for prices of no views\n",
    "pp_noview = ss.norm.pdf(p, loc = noview.price.mean(), scale = 5000)\n",
    "pp_noview = pp_noview / pp_noview.sum()\n",
    "\n",
    "like_noview = comp_like(p, noview.price)\n",
    "post_noview = posterior(pp_noview, like_noview)\n",
    "\n",
    "plt.plot(p, pp_noview, label='prior')\n",
    "plt.plot(p, like_noview, label='likelihood', alpha=.3, linewidth=10)\n",
    "plt.plot(p, post_noview, label='posterior')\n",
    "plt.legend()"
   ]
  },
  {
   "cell_type": "markdown",
   "metadata": {},
   "source": [
    "#### What can we learn about these Bayesian summary statistics?\n",
    "By estimating the posterior distribution of the mean for both homes with and without views we can see that the highest relative likelihood for homes with views is around a price of about 700000. When looking at the homes without views, we can see that the likelihood is more robust, but is happening around 400000. These posterior distributions help us to see what the most liklely of price will be for our respective groups (i.e. homes with/without views)."
   ]
  },
  {
   "cell_type": "markdown",
   "metadata": {},
   "source": [
    "## Compute confidence intervals for the above statistics by classical, bootstrap, and Bayesian methods"
   ]
  },
  {
   "cell_type": "markdown",
   "metadata": {},
   "source": [
    "### Classic"
   ]
  },
  {
   "cell_type": "code",
   "execution_count": 16,
   "metadata": {},
   "outputs": [
    {
     "name": "stdout",
     "output_type": "stream",
     "text": [
      "The actual mean is 518936.58\n",
      "The 0.95 level CI is (-80003.28, 1124591.25)\n"
     ]
    }
   ],
   "source": [
    "# Compute confidence intervals for housing prices\n",
    "\n",
    "# Compute summary statistics\n",
    "# Compute sample estimated population stats\n",
    "pricecol_means = np.array([\n",
    "    np.random.choice(pricecol, size = 50, replace = True).mean()\n",
    "    for i in range(500)\n",
    "])\n",
    "\n",
    "price_pop_mean = pricecol_means.mean()\n",
    "price_pop_std = pricecol_means.std()\n",
    "\n",
    "# Set alpha\n",
    "alpha = 0.95\n",
    "\n",
    "# Define margin of error\n",
    "half_width = ss.norm.ppf((1 + alpha) / 2, loc = price_pop_mean, scale = price_pop_std)\n",
    "\n",
    "# Set limits for confidence intervals\n",
    "ci_low = price_pop_mean - half_width\n",
    "ci_high = price_pop_mean + half_width\n",
    "\n",
    "# Print info\n",
    "print('The actual mean is %.2f' %pricecol.mean())\n",
    "print('The %.2f level CI is (%.2f, %.2f)' % (alpha, ci_low, ci_high))"
   ]
  },
  {
   "cell_type": "markdown",
   "metadata": {},
   "source": [
    "#### What can we learn from these confidence intervals?\n",
    "By calculating the confidence intervals with the above parameters, we can be 95% certain that the values between our confidence intervals contains the true mean of the population. We are ble to confirm this by looking at the actual mean of the housing prices and seeing it falls within those intervals. "
   ]
  },
  {
   "cell_type": "markdown",
   "metadata": {},
   "source": [
    "### Bootstrap"
   ]
  },
  {
   "cell_type": "code",
   "execution_count": 17,
   "metadata": {},
   "outputs": [
    {
     "data": {
      "image/png": "[encoded data removed]",
      "text/plain": [
       "<Figure size 432x288 with 2 Axes>"
      ]
     },
     "metadata": {
      "needs_background": "light"
     },
     "output_type": "display_data"
    }
   ],
   "source": [
    "# Create new df to work with\n",
    "typicalprice2 = typicalprice1\n",
    "\n",
    "# Select subset of rows\n",
    "waterfront = typicalprice2[typicalprice2.loc[:, 'waterfront'] == 1]\n",
    "not_waterfront = typicalprice2[typicalprice2.loc[:,'waterfront'] == 0]\n",
    "\n",
    "# Make function to plot both\n",
    "def plot_dists(a, b, nbins, a_label = 'pop_A', b_label = 'pop_B', p = 5):\n",
    "        # Create visualization consistency\n",
    "    combined = pd.concat([a,b])\n",
    "    breaks = np.linspace(\n",
    "        combined.min(),\n",
    "        combined.max(),\n",
    "        num = nbins + 1)\n",
    "    \n",
    "    plt.subplot(2, 1, 1)\n",
    "    plot_hist(a)\n",
    "    plt.title(a_label)\n",
    "    \n",
    "    plt.subplot(2, 1, 2)\n",
    "    plot_hist(b)\n",
    "    plt.title(b_label)\n",
    "    \n",
    "    plt.tight_layout()\n",
    "\n",
    "plot_dists(waterfront.price, not_waterfront.price, 20, a_label = 'waterfront', b_label = 'not_waterfront')"
   ]
  },
  {
   "cell_type": "markdown",
   "metadata": {},
   "source": [
    "#### What can we learn from these confidence intervals\n",
    "WIthin this analysis, we are not only able to see confidence intervals on our pricing data, but we are able to see it broken down by water front and not water front properties. Our confidecen intervals show where the true mean of the population likely lies within. We can see that the non-waterfront home distribution lies within the confidence intervals for the waterfront home prices. This means we cannot say that pricing for waterfront and non-waterfront homes are significantly different in their pricing range. This is valuable information for anyone looking to buy in the area, as it show that while there may be amore limited amount of waterfront homes in the area, it's possible their pricing can be very affordable. By visualizing the large spread of pricing for the waterfront homes, we can also suggest that if someone was looking to \"flip\" a house, they could likely buy a waterfront home, fix it up, and have a good chance of ending up in that higher selling range that waterfront homes can go for."
   ]
  },
  {
   "cell_type": "markdown",
   "metadata": {},
   "source": [
    "### Bayesian"
   ]
  },
  {
   "cell_type": "code",
   "execution_count": 18,
   "metadata": {},
   "outputs": [
    {
     "name": "stdout",
     "output_type": "stream",
     "text": [
      "The 0.950 credible interval is 0.025 to 0.975\n"
     ]
    },
    {
     "data": {
      "image/png": "[encoded data removed]",
      "text/plain": [
       "<Figure size 432x288 with 1 Axes>"
      ]
     },
     "metadata": {
      "needs_background": "light"
     },
     "output_type": "display_data"
    }
   ],
   "source": [
    "# Establish number of samples\n",
    "num_samples = 10000\n",
    "\n",
    "def plot_ci(p, post, num_samples, lower_q, upper_q):\n",
    "    ## This function computes a credible interval using an assumption\n",
    "    ## of symetry in the bulk of the distribution to keep the \n",
    "    ## calculation simple. \n",
    "    ## Compute a large sample by resampling with replacement\n",
    "    samples = np.random.choice(p, size=num_samples, replace=True, p=post)\n",
    "    ci = scipy.percentile(samples, [lower_q*100, upper_q*100]) # compute the quantiles\n",
    "    \n",
    "    interval = upper_q - lower_q\n",
    "    plt.title('Posterior density with %.3f credible interval' % interval)\n",
    "    plt.plot(p, post, color='blue')\n",
    "    plt.xlabel('Parameter value')\n",
    "    plt.ylabel('Density')\n",
    "    plt.axvline(x=ci[0], color='red')\n",
    "    plt.axvline(x=ci[1], color='red')\n",
    "    print('The %.3f credible interval is %.3f to %.3f' \n",
    "          % (interval, lower_q, upper_q))\n",
    "\n",
    "# Plot homes with views\n",
    "plot_ci(p, post_view, num_samples, lower_q=.025, upper_q=.975)"
   ]
  },
  {
   "cell_type": "code",
   "execution_count": 19,
   "metadata": {},
   "outputs": [
    {
     "name": "stdout",
     "output_type": "stream",
     "text": [
      "The 0.950 credible interval is 0.025 to 0.975\n"
     ]
    },
    {
     "data": {
      "image/png": "[encoded data removed]",
      "text/plain": [
       "<Figure size 432x288 with 1 Axes>"
      ]
     },
     "metadata": {
      "needs_background": "light"
     },
     "output_type": "display_data"
    }
   ],
   "source": [
    "# Plot homes with no views\n",
    "plot_ci(p, post_noview, num_samples, lower_q=.025, upper_q=.975)"
   ]
  },
  {
   "cell_type": "code",
   "execution_count": 20,
   "metadata": {},
   "outputs": [
    {
     "name": "stdout",
     "output_type": "stream",
     "text": [
      "The 0.950 credible interval is 0.025 to 0.975\n",
      "The 0.950 credible interval is 0.025 to 0.975\n"
     ]
    },
    {
     "data": {
      "image/png": "[encoded data removed]",
      "text/plain": [
       "<Figure size 432x288 with 1 Axes>"
      ]
     },
     "metadata": {
      "needs_background": "light"
     },
     "output_type": "display_data"
    }
   ],
   "source": [
    "# Plot both groups on same axis\n",
    "plot_ci(p, post_view, num_samples, lower_q=.025, upper_q=.975)\n",
    "plot_ci(p, post_noview, num_samples, lower_q=.025, upper_q=.975)"
   ]
  },
  {
   "cell_type": "markdown",
   "metadata": {},
   "source": [
    "#### What can we learn from these credible intervals?\n",
    "By not only plotting the credible intervals for a population, but doing so on the same axis, we are able to see that they do not overlap between groups. This means that the differences between the two groups is significant. This reiterates previous findings that demonstrate homes with views are more expensive than homes without views."
   ]
  },
  {
   "cell_type": "markdown",
   "metadata": {},
   "source": [
    "## Leverage confidence intervals in performing hypothesis tests to determine if the differences in pairs and multiple populations are significant\n",
    "*see above for bayesian methods"
   ]
  },
  {
   "cell_type": "markdown",
   "metadata": {},
   "source": [
    "### Classical"
   ]
  },
  {
   "cell_type": "code",
   "execution_count": 21,
   "metadata": {},
   "outputs": [
    {
     "name": "stdout",
     "output_type": "stream",
     "text": [
      "DegFreedom    3.481745e+01\n",
      "Difference    6.668250e+05\n",
      "Statistic     6.183537e+00\n",
      "PValue        4.522999e-07\n",
      "Low95CI       4.478596e+05\n",
      "High95CI      8.857904e+05\n",
      "dtype: float64\n"
     ]
    },
    {
     "data": {
      "image/png": "[encoded data removed]",
      "text/plain": [
       "<Figure size 432x288 with 2 Axes>"
      ]
     },
     "metadata": {
      "needs_background": "light"
     },
     "output_type": "display_data"
    }
   ],
   "source": [
    "# Test to see if prices in waterfront and non-waterfront homes are significantly different\n",
    "\n",
    "# Create histogram function\n",
    "%matplotlib inline\n",
    "def hist_plot(vec, bins):\n",
    "    import matplotlib.pyplot as plt\n",
    "    from statistics import mean\n",
    "    plt.hist(vec, bins = bins)\n",
    "    plt.axvline(mean(vec), color = 'red')\n",
    "    plt.ylabel('Frequency')\n",
    "    plt.xlabel('Value')\n",
    "    \n",
    "# Create function for t-test\n",
    "def t_test(a, b, alpha, alternative='two-sided'):\n",
    "    from scipy import stats\n",
    "    import scipy.stats as ss\n",
    "    import pandas as pd\n",
    "    import statsmodels.stats.weightstats as ws\n",
    "    \n",
    "    diff = a.mean() - b.mean()\n",
    "\n",
    "    res = ss.ttest_ind(a, b, equal_var=False)\n",
    "      \n",
    "    means = ws.CompareMeans(ws.DescrStatsW(a), ws.DescrStatsW(b))\n",
    "    confint = means.tconfint_diff(alpha=alpha, alternative=alternative, usevar='unequal') \n",
    "    degfree = means.dof_satt()\n",
    "\n",
    "    index = ['DegFreedom', 'Difference', 'Statistic', 'PValue', 'Low95CI', 'High95CI']\n",
    "    return pd.Series([degfree, diff, res[0], res[1], confint[0], confint[1]], index = index)  \n",
    "\n",
    "# Create subsets\n",
    "waterfront = typicalprice2[typicalprice2.loc[:, 'waterfront'] == 1].sample(n = num_sample)\n",
    "nowaterfront = typicalprice2[typicalprice2.loc[:, 'waterfront'] == 0].sample(n = num_sample)\n",
    "\n",
    "# Set alpha equal to .05/create variable with this information\n",
    "pricettest = t_test(waterfront.price, nowaterfront.price, 0.05)\n",
    "\n",
    "# Create function for delineating confidence intervals\n",
    "def hist_mean_ci(vec, t_test, bins):\n",
    "    import matplotlib.pyplot as plt\n",
    "    from statistics import mean\n",
    "    upper = mean(vec) + t_test[5] - t_test[1]\n",
    "    lower = mean(vec) + t_test[4] - t_test[1]\n",
    "    plt.hist(vec, bins = bins)\n",
    "    plt.axvline(mean(vec), color = 'red')\n",
    "    plt.axvline(upper, color = 'red', linestyle='--')\n",
    "    plt.axvline(lower, color = 'red', linestyle='--')\n",
    "    plt.ylabel('Frequency')\n",
    "    plt.xlabel('Value')\n",
    "\n",
    "# Create function to plot t-test data\n",
    "def plot_t(a, b, t_test, cols=['pop_A', 'pop_B'], nbins = 20):\n",
    "    import matplotlib.pyplot as plt\n",
    "    minx = min([min(a), min(b)])\n",
    "    maxx = max([max(a), max(b)])\n",
    "    stepx = (maxx - minx)/(nbins + 1)\n",
    "    bins = [minx + i * stepx for i in range(nbins + 1)]\n",
    "    plt.subplot(2, 1, 1) # The first plot\n",
    "    hist_mean_ci(a, t_test, bins)\n",
    "    plt.title('Histograme of ' + cols[0] + ' and ' + cols[1])\n",
    "    plt.subplot(2, 1, 2) # The next plot\n",
    "    hist_plot(b, bins)\n",
    "\n",
    "print(pricettest)\n",
    "plot_t(waterfront.price, nowaterfront.price, pricettest)"
   ]
  },
  {
   "cell_type": "code",
   "execution_count": 22,
   "metadata": {},
   "outputs": [
    {
     "name": "stdout",
     "output_type": "stream",
     "text": [
      "DegFreedom    3.481745e+01\n",
      "Difference    6.668250e+05\n",
      "Statistic     6.183537e+00\n",
      "PValue        4.522999e-07\n",
      "Low95CI       4.478596e+05\n",
      "High95CI      8.857904e+05\n",
      "dtype: float64\n"
     ]
    },
    {
     "data": {
      "image/png": "[encoded data removed]",
      "text/plain": [
       "<Figure size 432x288 with 2 Axes>"
      ]
     },
     "metadata": {
      "needs_background": "light"
     },
     "output_type": "display_data"
    }
   ],
   "source": [
    "# Do again for view versus no view homes\n",
    "pricettest2 = t_test(view.price, noview.price, 0.05)\n",
    "print(pricettest)\n",
    "\n",
    "# Plot data with confidence intervals\n",
    "plot_t(view.price, noview.price, pricettest2)"
   ]
  },
  {
   "cell_type": "markdown",
   "metadata": {},
   "source": [
    "#### What can we learn from the above t-tests?\n",
    "By investigating the diffferences in multiple groups of data, we can begin to see how they may be related. When observing the first set of plot about waterfront versus non-waterfront homes we can see that the mean of non-waterfront homes does not fall within the confidence intervals for the waterfront homes. This means there is a significant difference between the two. When we look at the second set of graphs we see a similar pattern for homes with/without views. Interestingly, the distribution for homes with no waterfront view and no view at all seems to be very similar. Meanwhile, the view homes maintain a wider spread than the waterfront homes, with more data points accumulating on the lower price end. These results suggest that homes that are considered to have views that are not waterfront, are likley to be cheaper on the market than homes with a waterfront view. Therefore, someone looking to buy and resell in the area may want to reconsider buying a home advertised as having a 'view' if it is not a waterfront one."
   ]
  },
  {
   "cell_type": "markdown",
   "metadata": {},
   "source": [
    "### Bootstrap methods\n",
    "After seeing the similarities between the waterfront and view groups I was curious if there truly is a difference in means between them. The similar distributions between the two implies that those that have a view and those who have a waterfront property are mostly one in the same, although the source of the data does not explicitly say. ALthough there are other statistical tests we can do, a good first exploratory step in comparing these two groups is investigating the differences in means."
   ]
  },
  {
   "cell_type": "code",
   "execution_count": 23,
   "metadata": {},
   "outputs": [
    {
     "data": {
      "image/png": "[encoded data removed]",
      "text/plain": [
       "<Figure size 432x288 with 1 Axes>"
      ]
     },
     "metadata": {
      "needs_background": "light"
     },
     "output_type": "display_data"
    }
   ],
   "source": [
    "## Calculate the differences in means using bootstrap methods\n",
    "\n",
    "diffs = []\n",
    "for i in range(n_replicas):\n",
    "    sample = typicalprice2.sample(frac=1.0, replace=True)\n",
    "    view_sample_mean = sample[sample.loc[:,'view'] == 1].price.mean()\n",
    "    waterfront_sample_mean = sample[sample.loc[:,'waterfront'] == 1].price.mean()\n",
    "    diffs.append(waterfront_sample_mean - view_sample_mean)\n",
    "diffs = pd.Series(diffs)\n",
    "\n",
    "\n",
    "plot_hist(diffs)"
   ]
  },
  {
   "cell_type": "markdown",
   "metadata": {},
   "source": [
    "#### What can we learn from this bootstrap visualization?\n",
    "Interestly, the means *are* significantly different! My hunch was incorrect. Although this does not mean these two groups come from mutually exclusive populations, it does mean that even if they do, the amount of homes with views are different enough in price to be significant. This is relevant information for anyone looking to buy or sell a home in the area because it demonstrates that even if your home has a great view, if it's not waterfront, you're unlikely to sell at the top of the market."
   ]
  },
  {
   "cell_type": "markdown",
   "metadata": {},
   "source": [
    "# Overall interpretation\n",
    "The above analyses results in insights that can help inform decisions on home buying and reselling in King County, Washington. We learned that while there may be fewer homes with a waterfront view, these maintain the possibility of having a very high selling price. We also learned that peopel in King County may expect to have land, or at the very least a large lot as part of their property. It would be smart to stay away from homes or refurbishments that would put the value of the home over 2 million dollars, as that would be high for this area and buyers are unliklely to pay in this market."
   ]
  }
 ],
 "metadata": {
  "kernelspec": {
   "display_name": "Python 3",
   "language": "python",
   "name": "python3"
  },
  "language_info": {
   "codemirror_mode": {
    "name": "ipython",
    "version": 3
   },
   "file_extension": ".py",
   "mimetype": "text/x-python",
   "name": "python",
   "nbconvert_exporter": "python",
   "pygments_lexer": "ipython3",
   "version": "3.7.4"
  }
 },
 "nbformat": 4,
 "nbformat_minor": 2
}
